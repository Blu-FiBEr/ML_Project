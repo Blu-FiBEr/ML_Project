{
  "cells": [
    {
      "cell_type": "markdown",
      "metadata": {
        "id": "x5iQKjumxzTm"
      },
      "source": [
        "# Imports\n",
        "All the imports which are necessary for the proprocessing steps, model training etc. We import:\n",
        "1. numpy for linear algebra\n",
        "2. pandas for preprocessing\n",
        "3. sklearn for all the models which are implememted in the code\n",
        "4. nltk for all the NLP related preprocessing"
      ]
    },
    {
      "cell_type": "code",
      "execution_count": 73,
      "metadata": {
        "id": "NTYG7oszx03i"
      },
      "outputs": [],
      "source": [
        "import io\n",
        "import re\n",
        "import numpy as np\n",
        "import pandas as pd  \n",
        "import matplotlib.pyplot as plt\n",
        "\n",
        "import sklearn.metrics as metrics\n",
        "from sklearn.feature_extraction.text import CountVectorizer\n",
        "from sklearn.feature_extraction.text import TfidfTransformer\n",
        "from sklearn.model_selection import train_test_split\n",
        "from sklearn.naive_bayes import MultinomialNB\n",
        "from sklearn.metrics import classification_report, accuracy_score, f1_score\n",
        "\n",
        "from nltk.tokenize import word_tokenize\n",
        "from bs4 import BeautifulSoup\n",
        "import unicodedata\n",
        "\n",
        "import nltk\n",
        "from nltk.corpus import stopwords\n",
        "from nltk.corpus import wordnet\n",
        "from nltk import pos_tag\n",
        "from nltk import ne_chunk\n",
        "from nltk.stem.porter import PorterStemmer\n",
        "from nltk.stem.wordnet import WordNetLemmatizer\n",
        "from nltk.probability import FreqDist"
      ]
    },
    {
      "cell_type": "markdown",
      "metadata": {
        "id": "1mZ-ZNse_O2y"
      },
      "source": [
        "# Data Reading\n",
        "The .csv file is read from the Google Drive."
      ]
    },
    {
      "cell_type": "code",
      "execution_count": 74,
      "metadata": {
        "colab": {
          "base_uri": "https://localhost:8080/"
        },
        "id": "-P5aS87O_Lw4",
        "outputId": "f6d74281-4a9c-46e4-dbae-bf08b3118a89"
      },
      "outputs": [],
      "source": [
        "# from google.colab import drive\n",
        "# drive.mount('/content/gdrive/', force_remount=True)\n",
        "\n",
        "# train_df = pd.read_csv('gdrive/My Drive/train_df.csv')\n",
        "# test_df = pd.read_csv('gdrive/My Drive/test_df.csv')\n",
        "\n",
        "train_df = pd.read_csv(\"train_df.csv\")\n",
        "test_df = pd.read_csv(\"test_df.csv\")"
      ]
    },
    {
      "cell_type": "code",
      "execution_count": 75,
      "metadata": {
        "colab": {
          "base_uri": "https://localhost:8080/",
          "height": 424
        },
        "id": "Di2HTuc__hjo",
        "outputId": "c70a40e6-b8c1-418b-cdda-74b8665ad8a5"
      },
      "outputs": [
        {
          "data": {
            "text/html": [
              "<div>\n",
              "<style scoped>\n",
              "    .dataframe tbody tr th:only-of-type {\n",
              "        vertical-align: middle;\n",
              "    }\n",
              "\n",
              "    .dataframe tbody tr th {\n",
              "        vertical-align: top;\n",
              "    }\n",
              "\n",
              "    .dataframe thead th {\n",
              "        text-align: right;\n",
              "    }\n",
              "</style>\n",
              "<table border=\"1\" class=\"dataframe\">\n",
              "  <thead>\n",
              "    <tr style=\"text-align: right;\">\n",
              "      <th></th>\n",
              "      <th>qid</th>\n",
              "      <th>question_text</th>\n",
              "      <th>target</th>\n",
              "    </tr>\n",
              "  </thead>\n",
              "  <tbody>\n",
              "    <tr>\n",
              "      <th>0</th>\n",
              "      <td>dda0b0efc8ba86e81ec4</td>\n",
              "      <td>What are interesting facts about Microsoft his...</td>\n",
              "      <td>0</td>\n",
              "    </tr>\n",
              "    <tr>\n",
              "      <th>1</th>\n",
              "      <td>dc708b74a108d0fc0ad9</td>\n",
              "      <td>What are those things which are not gonna happ...</td>\n",
              "      <td>0</td>\n",
              "    </tr>\n",
              "    <tr>\n",
              "      <th>2</th>\n",
              "      <td>06a27ec5d82dacd8bfe0</td>\n",
              "      <td>What should I know to avoid being \"upsold\" whe...</td>\n",
              "      <td>0</td>\n",
              "    </tr>\n",
              "    <tr>\n",
              "      <th>3</th>\n",
              "      <td>00cbb6b17e3ceb7c5358</td>\n",
              "      <td>How I add any account with payment bank?</td>\n",
              "      <td>0</td>\n",
              "    </tr>\n",
              "    <tr>\n",
              "      <th>4</th>\n",
              "      <td>7c304888973a701585a0</td>\n",
              "      <td>Which Multi level marketing products are actua...</td>\n",
              "      <td>0</td>\n",
              "    </tr>\n",
              "    <tr>\n",
              "      <th>...</th>\n",
              "      <td>...</td>\n",
              "      <td>...</td>\n",
              "      <td>...</td>\n",
              "    </tr>\n",
              "    <tr>\n",
              "      <th>999995</th>\n",
              "      <td>4bd96088d0b5f0f2c4f4</td>\n",
              "      <td>How is CSE at VIT Chennai?</td>\n",
              "      <td>0</td>\n",
              "    </tr>\n",
              "    <tr>\n",
              "      <th>999996</th>\n",
              "      <td>e80edbfc086f7125940f</td>\n",
              "      <td>How can we prevent a holocaust by robots, AI, ...</td>\n",
              "      <td>0</td>\n",
              "    </tr>\n",
              "    <tr>\n",
              "      <th>999997</th>\n",
              "      <td>1506dfad6bd340782a1f</td>\n",
              "      <td>How can I help a student remember key steps an...</td>\n",
              "      <td>0</td>\n",
              "    </tr>\n",
              "    <tr>\n",
              "      <th>999998</th>\n",
              "      <td>b56c60fd407f2f85553c</td>\n",
              "      <td>What is the difference between lace closure &amp; ...</td>\n",
              "      <td>0</td>\n",
              "    </tr>\n",
              "    <tr>\n",
              "      <th>999999</th>\n",
              "      <td>a1b32d315c2782cdbcc3</td>\n",
              "      <td>What happens when you look into a broken mirror?</td>\n",
              "      <td>0</td>\n",
              "    </tr>\n",
              "  </tbody>\n",
              "</table>\n",
              "<p>1000000 rows × 3 columns</p>\n",
              "</div>"
            ],
            "text/plain": [
              "                         qid  \\\n",
              "0       dda0b0efc8ba86e81ec4   \n",
              "1       dc708b74a108d0fc0ad9   \n",
              "2       06a27ec5d82dacd8bfe0   \n",
              "3       00cbb6b17e3ceb7c5358   \n",
              "4       7c304888973a701585a0   \n",
              "...                      ...   \n",
              "999995  4bd96088d0b5f0f2c4f4   \n",
              "999996  e80edbfc086f7125940f   \n",
              "999997  1506dfad6bd340782a1f   \n",
              "999998  b56c60fd407f2f85553c   \n",
              "999999  a1b32d315c2782cdbcc3   \n",
              "\n",
              "                                            question_text  target   \n",
              "0       What are interesting facts about Microsoft his...        0  \n",
              "1       What are those things which are not gonna happ...        0  \n",
              "2       What should I know to avoid being \"upsold\" whe...        0  \n",
              "3                How I add any account with payment bank?        0  \n",
              "4       Which Multi level marketing products are actua...        0  \n",
              "...                                                   ...      ...  \n",
              "999995                         How is CSE at VIT Chennai?        0  \n",
              "999996  How can we prevent a holocaust by robots, AI, ...        0  \n",
              "999997  How can I help a student remember key steps an...        0  \n",
              "999998  What is the difference between lace closure & ...        0  \n",
              "999999   What happens when you look into a broken mirror?        0  \n",
              "\n",
              "[1000000 rows x 3 columns]"
            ]
          },
          "execution_count": 75,
          "metadata": {},
          "output_type": "execute_result"
        }
      ],
      "source": [
        "train_df"
      ]
    },
    {
      "cell_type": "code",
      "execution_count": 76,
      "metadata": {
        "colab": {
          "base_uri": "https://localhost:8080/",
          "height": 424
        },
        "id": "pD3-9Hvn_kQI",
        "outputId": "b27a995a-855c-400b-e7c3-60dfd79ee614"
      },
      "outputs": [
        {
          "data": {
            "text/html": [
              "<div>\n",
              "<style scoped>\n",
              "    .dataframe tbody tr th:only-of-type {\n",
              "        vertical-align: middle;\n",
              "    }\n",
              "\n",
              "    .dataframe tbody tr th {\n",
              "        vertical-align: top;\n",
              "    }\n",
              "\n",
              "    .dataframe thead th {\n",
              "        text-align: right;\n",
              "    }\n",
              "</style>\n",
              "<table border=\"1\" class=\"dataframe\">\n",
              "  <thead>\n",
              "    <tr style=\"text-align: right;\">\n",
              "      <th></th>\n",
              "      <th>qid</th>\n",
              "      <th>question_text</th>\n",
              "    </tr>\n",
              "  </thead>\n",
              "  <tbody>\n",
              "    <tr>\n",
              "      <th>0</th>\n",
              "      <td>a4f3da3a3df9dd881edd</td>\n",
              "      <td>My period is due on my wedding day. How can I ...</td>\n",
              "    </tr>\n",
              "    <tr>\n",
              "      <th>1</th>\n",
              "      <td>9914c62ed3f69684d549</td>\n",
              "      <td>How many numbers higher than a million can be ...</td>\n",
              "    </tr>\n",
              "    <tr>\n",
              "      <th>2</th>\n",
              "      <td>8138ae48649e37091a91</td>\n",
              "      <td>How come I feel nothing for my family, but sti...</td>\n",
              "    </tr>\n",
              "    <tr>\n",
              "      <th>3</th>\n",
              "      <td>981b4753d17ef14d09f7</td>\n",
              "      <td>In case of collapse of the Democratic party, w...</td>\n",
              "    </tr>\n",
              "    <tr>\n",
              "      <th>4</th>\n",
              "      <td>452e2c705276ba16b7b7</td>\n",
              "      <td>Who is Émile Naoumoff?</td>\n",
              "    </tr>\n",
              "    <tr>\n",
              "      <th>...</th>\n",
              "      <td>...</td>\n",
              "      <td>...</td>\n",
              "    </tr>\n",
              "    <tr>\n",
              "      <th>306117</th>\n",
              "      <td>a352dff4fcc2571815ce</td>\n",
              "      <td>Did anyone get an update on Maruti Suzuki All ...</td>\n",
              "    </tr>\n",
              "    <tr>\n",
              "      <th>306118</th>\n",
              "      <td>ad4a8498d97c536c67b9</td>\n",
              "      <td>What 5 people in history do you find the most ...</td>\n",
              "    </tr>\n",
              "    <tr>\n",
              "      <th>306119</th>\n",
              "      <td>19784a27b55d4b453fda</td>\n",
              "      <td>How can I remove the tan on my forehead?</td>\n",
              "    </tr>\n",
              "    <tr>\n",
              "      <th>306120</th>\n",
              "      <td>370191dba26465997879</td>\n",
              "      <td>If you are a well known hacker, will you be mo...</td>\n",
              "    </tr>\n",
              "    <tr>\n",
              "      <th>306121</th>\n",
              "      <td>8077b4a45cea867d4ff2</td>\n",
              "      <td>If your new enemies be bigger and more dangero...</td>\n",
              "    </tr>\n",
              "  </tbody>\n",
              "</table>\n",
              "<p>306122 rows × 2 columns</p>\n",
              "</div>"
            ],
            "text/plain": [
              "                         qid  \\\n",
              "0       a4f3da3a3df9dd881edd   \n",
              "1       9914c62ed3f69684d549   \n",
              "2       8138ae48649e37091a91   \n",
              "3       981b4753d17ef14d09f7   \n",
              "4       452e2c705276ba16b7b7   \n",
              "...                      ...   \n",
              "306117  a352dff4fcc2571815ce   \n",
              "306118  ad4a8498d97c536c67b9   \n",
              "306119  19784a27b55d4b453fda   \n",
              "306120  370191dba26465997879   \n",
              "306121  8077b4a45cea867d4ff2   \n",
              "\n",
              "                                            question_text  \n",
              "0       My period is due on my wedding day. How can I ...  \n",
              "1       How many numbers higher than a million can be ...  \n",
              "2       How come I feel nothing for my family, but sti...  \n",
              "3       In case of collapse of the Democratic party, w...  \n",
              "4                                 Who is Émile Naoumoff?   \n",
              "...                                                   ...  \n",
              "306117  Did anyone get an update on Maruti Suzuki All ...  \n",
              "306118  What 5 people in history do you find the most ...  \n",
              "306119           How can I remove the tan on my forehead?  \n",
              "306120  If you are a well known hacker, will you be mo...  \n",
              "306121  If your new enemies be bigger and more dangero...  \n",
              "\n",
              "[306122 rows x 2 columns]"
            ]
          },
          "execution_count": 76,
          "metadata": {},
          "output_type": "execute_result"
        }
      ],
      "source": [
        "test_df"
      ]
    },
    {
      "cell_type": "markdown",
      "metadata": {
        "id": "Ngm3rm5t_rpt"
      },
      "source": [
        "# Preprocessing and EDA\n",
        "The preprocessing starts here and the operations aree performed in order:\n",
        "1. All the questions are first converted into lower case. This is because, the words 'english' and 'English' have the same meaning and having both the words in different ways will just add as noise to the model.\n",
        "2. All the HTML tags are removed as the do not depict any importance in defining the meaning of the question.\n",
        "3. We the remove all the URLs from the questions as they also do not contribute towards classifying the question as a spam or troll.\n",
        "4. We then remove all the accented words from the questions. For example, the word 'résumé' will be converted to 'resume'.\n",
        "5. Then punctuation is removed as they do not contribute towards identifying a question as spam or troll.\n",
        "6. Finally, we remove the extra whitespaces or tabs in the sentences formed."
      ]
    },
    {
      "cell_type": "code",
      "execution_count": 138,
      "metadata": {},
      "outputs": [],
      "source": [
        "df = train_df"
      ]
    },
    {
      "cell_type": "code",
      "execution_count": 77,
      "metadata": {},
      "outputs": [],
      "source": [
        "train_df = train_df[train_df['question_text'].map(lambda x: x.isascii())]\n",
        "#test_df = test_df[test_df['question_text'].map(lambda x: x.isascii())]\n"
      ]
    },
    {
      "cell_type": "code",
      "execution_count": 144,
      "metadata": {},
      "outputs": [
        {
          "data": {
            "text/plain": [
              "(978860, 5)"
            ]
          },
          "execution_count": 144,
          "metadata": {},
          "output_type": "execute_result"
        }
      ],
      "source": [
        "train_df.shape"
      ]
    },
    {
      "cell_type": "code",
      "execution_count": 152,
      "metadata": {},
      "outputs": [
        {
          "data": {
            "text/plain": [
              "(0, 5)"
            ]
          },
          "execution_count": 152,
          "metadata": {},
          "output_type": "execute_result"
        }
      ],
      "source": [
        "temp = train_df.loc[~train_df['question_text'].isin(df['question_text'])]\n",
        "temp.shape"
      ]
    },
    {
      "cell_type": "code",
      "execution_count": 147,
      "metadata": {},
      "outputs": [
        {
          "data": {
            "text/plain": [
              "[]"
            ]
          },
          "execution_count": 147,
          "metadata": {},
          "output_type": "execute_result"
        }
      ],
      "source": [
        "a_set=set(df.question_text.unique())\n",
        "b_set=set(train_df.question_text.unique())\n",
        "\n",
        "list(b_set-a_set)"
      ]
    },
    {
      "cell_type": "code",
      "execution_count": 78,
      "metadata": {
        "colab": {
          "base_uri": "https://localhost:8080/"
        },
        "id": "xBuQiqY9_nxZ",
        "outputId": "8371b332-7f21-494b-87b7-5e160e685ef6"
      },
      "outputs": [
        {
          "data": {
            "text/plain": [
              "(0         what are interesting facts about microsoft his...\n",
              " 1         what are those things which are not gonna happ...\n",
              " 2         what should i know to avoid being \"upsold\" whe...\n",
              " 3                  how i add any account with payment bank?\n",
              " 4         which multi level marketing products are actua...\n",
              "                                 ...                        \n",
              " 999995                           how is cse at vit chennai?\n",
              " 999996    how can we prevent a holocaust by robots, ai, ...\n",
              " 999997    how can i help a student remember key steps an...\n",
              " 999998    what is the difference between lace closure & ...\n",
              " 999999     what happens when you look into a broken mirror?\n",
              " Name: question_text, Length: 978860, dtype: object,\n",
              " 0         my period is due on my wedding day. how can i ...\n",
              " 1         how many numbers higher than a million can be ...\n",
              " 2         how come i feel nothing for my family, but sti...\n",
              " 3         in case of collapse of the democratic party, w...\n",
              " 4                                   who is émile naoumoff? \n",
              "                                 ...                        \n",
              " 306117    did anyone get an update on maruti suzuki all ...\n",
              " 306118    what 5 people in history do you find the most ...\n",
              " 306119             how can i remove the tan on my forehead?\n",
              " 306120    if you are a well known hacker, will you be mo...\n",
              " 306121    if your new enemies be bigger and more dangero...\n",
              " Name: question_text, Length: 306122, dtype: object)"
            ]
          },
          "execution_count": 78,
          "metadata": {},
          "output_type": "execute_result"
        }
      ],
      "source": [
        "xSecureLower_train = train_df['question_text'].to_string(na_rep='').lower() #ye hai number removal wala\n",
        "xSecureLower_test = test_df['question_text'].to_string(na_rep='').lower() #ye hai number removal wala\n",
        "\n",
        "xLower_train = train_df['question_text'].str.lower()\n",
        "xLower_test = test_df['question_text'].str.lower()\n",
        "\n",
        "xLower_train, xLower_test"
      ]
    },
    {
      "cell_type": "markdown",
      "metadata": {
        "id": "4hm2X8ruAHSi"
      },
      "source": [
        "Replace missing values and any other datatype with empty string, and lowercase all the strings"
      ]
    },
    {
      "cell_type": "code",
      "execution_count": 79,
      "metadata": {
        "id": "VNK7GE_4ADbb"
      },
      "outputs": [
        {
          "name": "stderr",
          "output_type": "stream",
          "text": [
            "/tmp/ipykernel_389244/1300864548.py:1: SettingWithCopyWarning: \n",
            "A value is trying to be set on a copy of a slice from a DataFrame.\n",
            "Try using .loc[row_indexer,col_indexer] = value instead\n",
            "\n",
            "See the caveats in the documentation: http://pandas.pydata.org/pandas-docs/stable/user_guide/indexing.html#returning-a-view-versus-a-copy\n",
            "  train_df[\"question_text\"] = train_df[\"question_text\"].apply(lambda x: x.lower() if isinstance(x, str) else \"\")\n"
          ]
        }
      ],
      "source": [
        "train_df[\"question_text\"] = train_df[\"question_text\"].apply(lambda x: x.lower() if isinstance(x, str) else \"\")\n",
        "test_df[\"question_text\"] = test_df[\"question_text\"].apply(lambda x: x.lower() if isinstance(x, str) else \"\")"
      ]
    },
    {
      "cell_type": "code",
      "execution_count": 80,
      "metadata": {
        "id": "UWuHTeHgAfRB"
      },
      "outputs": [
        {
          "name": "stderr",
          "output_type": "stream",
          "text": [
            "/tmp/ipykernel_389244/3362907888.py:1: SettingWithCopyWarning: \n",
            "A value is trying to be set on a copy of a slice from a DataFrame.\n",
            "Try using .loc[row_indexer,col_indexer] = value instead\n",
            "\n",
            "See the caveats in the documentation: http://pandas.pydata.org/pandas-docs/stable/user_guide/indexing.html#returning-a-view-versus-a-copy\n",
            "  train_df['question_text'] = train_df['question_text'].astype(str)\n"
          ]
        }
      ],
      "source": [
        "train_df['question_text'] = train_df['question_text'].astype(str)\n",
        "test_df['question_text'] = test_df['question_text'].astype(str)"
      ]
    },
    {
      "cell_type": "markdown",
      "metadata": {
        "id": "wgPJ6u0HAkTZ"
      },
      "source": [
        "To remove all the HTML tags which might be present in the questions asked"
      ]
    },
    {
      "cell_type": "code",
      "execution_count": 81,
      "metadata": {
        "id": "mvpNqD7RAjLX"
      },
      "outputs": [],
      "source": [
        "def remove_html_tags(text):\n",
        "  new_text = re.sub('<.*?>','',text)\n",
        "  return new_text"
      ]
    },
    {
      "cell_type": "markdown",
      "metadata": {
        "id": "cdOSCDiyAyl7"
      },
      "source": [
        "To remove any URLs present as they wont have much importance towards the meaning of the question."
      ]
    },
    {
      "cell_type": "code",
      "execution_count": 82,
      "metadata": {
        "id": "2dD3os7eAv4N"
      },
      "outputs": [],
      "source": [
        "def remove_url(text):\n",
        "  new_text = re.sub(r'https?://\\S+|www\\.\\S+', '', text)\n",
        "  return new_text"
      ]
    },
    {
      "cell_type": "markdown",
      "metadata": {
        "id": "uNRi3N9yA1rV"
      },
      "source": [
        "This will remove any accented words and convert them to simple words. For example, résumé will be converted to resume.\n"
      ]
    },
    {
      "cell_type": "code",
      "execution_count": 83,
      "metadata": {
        "id": "ArBZO8XwA4IE"
      },
      "outputs": [],
      "source": [
        "def convert_accent_words(text):\n",
        "  return unicodedata.normalize('NFKD', text).encode('ascii', 'ignore').decode('utf-8', 'ignore')"
      ]
    },
    {
      "cell_type": "markdown",
      "metadata": {
        "id": "U_Hy9y-0A8nT"
      },
      "source": [
        "This will remove all the punctuation marks and numbers from the texts as they have no contribution towards making the question spam or troll.\n"
      ]
    },
    {
      "cell_type": "code",
      "execution_count": 84,
      "metadata": {
        "id": "AzaFiVRoBM1t"
      },
      "outputs": [],
      "source": [
        "def remove_punctuation_marks_and_numbers(text):\n",
        "  return re.sub(r'[^a-zA-Z]', ' ', text)"
      ]
    },
    {
      "cell_type": "markdown",
      "metadata": {
        "id": "F5sllTO8BPS9"
      },
      "source": [
        "To remove the extra whitespaces form the text"
      ]
    },
    {
      "cell_type": "code",
      "execution_count": 85,
      "metadata": {
        "id": "AtqGrMotA_zB"
      },
      "outputs": [],
      "source": [
        "def remove_whitespace(text):\n",
        "  return re.sub(r'^\\s*|\\s\\s*', ' ', text).strip()"
      ]
    },
    {
      "cell_type": "code",
      "execution_count": null,
      "metadata": {},
      "outputs": [],
      "source": []
    },
    {
      "cell_type": "markdown",
      "metadata": {
        "id": "cZuxSXWABDpp"
      },
      "source": [
        "# Lemmatization"
      ]
    },
    {
      "cell_type": "code",
      "execution_count": 86,
      "metadata": {
        "colab": {
          "base_uri": "https://localhost:8080/"
        },
        "id": "QBTynrFUBBsF",
        "outputId": "0f02da0e-c50a-4c76-e877-3c92d5b0532a"
      },
      "outputs": [
        {
          "name": "stderr",
          "output_type": "stream",
          "text": [
            "[nltk_data] Downloading package wordnet to /home/bhavjyot/nltk_data...\n",
            "[nltk_data]   Package wordnet is already up-to-date!\n",
            "[nltk_data] Downloading package omw-1.4 to /home/bhavjyot/nltk_data...\n",
            "[nltk_data]   Package omw-1.4 is already up-to-date!\n",
            "[nltk_data] Downloading package punkt to /home/bhavjyot/nltk_data...\n",
            "[nltk_data]   Package punkt is already up-to-date!\n"
          ]
        }
      ],
      "source": [
        "nltk.download('wordnet')\n",
        "nltk.download('omw-1.4')\n",
        "nltk.download('punkt')\n",
        "\n",
        "w_tokenizer = nltk.tokenize.WhitespaceTokenizer()\n",
        "lemmatizer = nltk.stem.WordNetLemmatizer()\n",
        "\n",
        "def lemmatize_text(text):\n",
        "    words = word_tokenize(text)\n",
        "    text = ' '.join([WordNetLemmatizer().lemmatize(word, pos='v') for word in words])\n",
        "    return text"
      ]
    },
    {
      "cell_type": "markdown",
      "metadata": {
        "id": "DjyyfNh7BdCn"
      },
      "source": [
        "Calling all the functions for preprocessing on the train dataframe and the test dataframe."
      ]
    },
    {
      "cell_type": "code",
      "execution_count": 87,
      "metadata": {
        "id": "I4YWlhecBbw5"
      },
      "outputs": [
        {
          "name": "stderr",
          "output_type": "stream",
          "text": [
            "/tmp/ipykernel_389244/1985120543.py:1: SettingWithCopyWarning: \n",
            "A value is trying to be set on a copy of a slice from a DataFrame.\n",
            "Try using .loc[row_indexer,col_indexer] = value instead\n",
            "\n",
            "See the caveats in the documentation: http://pandas.pydata.org/pandas-docs/stable/user_guide/indexing.html#returning-a-view-versus-a-copy\n",
            "  train_df['clean_questions']=train_df['question_text'].apply(lambda cw : remove_html_tags(cw))\n",
            "/tmp/ipykernel_389244/1985120543.py:2: SettingWithCopyWarning: \n",
            "A value is trying to be set on a copy of a slice from a DataFrame.\n",
            "Try using .loc[row_indexer,col_indexer] = value instead\n",
            "\n",
            "See the caveats in the documentation: http://pandas.pydata.org/pandas-docs/stable/user_guide/indexing.html#returning-a-view-versus-a-copy\n",
            "  train_df['clean_questions']=train_df['question_text'].apply(lambda cw : remove_url(cw))\n",
            "/tmp/ipykernel_389244/1985120543.py:3: SettingWithCopyWarning: \n",
            "A value is trying to be set on a copy of a slice from a DataFrame.\n",
            "Try using .loc[row_indexer,col_indexer] = value instead\n",
            "\n",
            "See the caveats in the documentation: http://pandas.pydata.org/pandas-docs/stable/user_guide/indexing.html#returning-a-view-versus-a-copy\n",
            "  train_df['clean_questions']=train_df['question_text'].apply(lambda cw : convert_accent_words(cw))\n",
            "/tmp/ipykernel_389244/1985120543.py:4: SettingWithCopyWarning: \n",
            "A value is trying to be set on a copy of a slice from a DataFrame.\n",
            "Try using .loc[row_indexer,col_indexer] = value instead\n",
            "\n",
            "See the caveats in the documentation: http://pandas.pydata.org/pandas-docs/stable/user_guide/indexing.html#returning-a-view-versus-a-copy\n",
            "  train_df['clean_questions']=train_df['question_text'].apply(lambda cw : remove_punctuation_marks_and_numbers(cw))\n",
            "/tmp/ipykernel_389244/1985120543.py:5: SettingWithCopyWarning: \n",
            "A value is trying to be set on a copy of a slice from a DataFrame.\n",
            "Try using .loc[row_indexer,col_indexer] = value instead\n",
            "\n",
            "See the caveats in the documentation: http://pandas.pydata.org/pandas-docs/stable/user_guide/indexing.html#returning-a-view-versus-a-copy\n",
            "  train_df['clean_questions']=train_df['question_text'].apply(lambda cw : lemmatize_text(cw))\n"
          ]
        }
      ],
      "source": [
        "train_df['clean_questions']=train_df['question_text'].apply(lambda cw : remove_html_tags(cw))\n",
        "train_df['clean_questions']=train_df['question_text'].apply(lambda cw : remove_url(cw))\n",
        "train_df['clean_questions']=train_df['question_text'].apply(lambda cw : convert_accent_words(cw))\n",
        "train_df['clean_questions']=train_df['question_text'].apply(lambda cw : remove_punctuation_marks_and_numbers(cw))\n",
        "train_df['clean_questions']=train_df['question_text'].apply(lambda cw : lemmatize_text(cw))\n",
        "\n",
        "test_df['clean_questions']=test_df['question_text'].apply(lambda cw : remove_html_tags(cw))\n",
        "test_df['clean_questions']=test_df['question_text'].apply(lambda cw : remove_url(cw))\n",
        "test_df['clean_questions']=test_df['question_text'].apply(lambda cw : convert_accent_words(cw))\n",
        "test_df['clean_questions']=test_df['question_text'].apply(lambda cw : remove_punctuation_marks_and_numbers(cw))\n",
        "test_df['clean_questions']=test_df['question_text'].apply(lambda cw : lemmatize_text(cw))"
      ]
    },
    {
      "cell_type": "code",
      "execution_count": 88,
      "metadata": {
        "colab": {
          "base_uri": "https://localhost:8080/",
          "height": 468
        },
        "id": "6fpQwJ5qDMwU",
        "outputId": "4b4af996-8bc7-4323-c239-ee83b8405889"
      },
      "outputs": [
        {
          "data": {
            "text/html": [
              "<div>\n",
              "<style scoped>\n",
              "    .dataframe tbody tr th:only-of-type {\n",
              "        vertical-align: middle;\n",
              "    }\n",
              "\n",
              "    .dataframe tbody tr th {\n",
              "        vertical-align: top;\n",
              "    }\n",
              "\n",
              "    .dataframe thead th {\n",
              "        text-align: right;\n",
              "    }\n",
              "</style>\n",
              "<table border=\"1\" class=\"dataframe\">\n",
              "  <thead>\n",
              "    <tr style=\"text-align: right;\">\n",
              "      <th></th>\n",
              "      <th>qid</th>\n",
              "      <th>question_text</th>\n",
              "      <th>target</th>\n",
              "      <th>clean_questions</th>\n",
              "    </tr>\n",
              "  </thead>\n",
              "  <tbody>\n",
              "    <tr>\n",
              "      <th>0</th>\n",
              "      <td>dda0b0efc8ba86e81ec4</td>\n",
              "      <td>what are interesting facts about microsoft his...</td>\n",
              "      <td>0</td>\n",
              "      <td>what be interest facts about microsoft history ?</td>\n",
              "    </tr>\n",
              "    <tr>\n",
              "      <th>1</th>\n",
              "      <td>dc708b74a108d0fc0ad9</td>\n",
              "      <td>what are those things which are not gonna happ...</td>\n",
              "      <td>0</td>\n",
              "      <td>what be those things which be not gon na happe...</td>\n",
              "    </tr>\n",
              "    <tr>\n",
              "      <th>2</th>\n",
              "      <td>06a27ec5d82dacd8bfe0</td>\n",
              "      <td>what should i know to avoid being \"upsold\" whe...</td>\n",
              "      <td>0</td>\n",
              "      <td>what should i know to avoid be `` upsold '' wh...</td>\n",
              "    </tr>\n",
              "    <tr>\n",
              "      <th>3</th>\n",
              "      <td>00cbb6b17e3ceb7c5358</td>\n",
              "      <td>how i add any account with payment bank?</td>\n",
              "      <td>0</td>\n",
              "      <td>how i add any account with payment bank ?</td>\n",
              "    </tr>\n",
              "    <tr>\n",
              "      <th>4</th>\n",
              "      <td>7c304888973a701585a0</td>\n",
              "      <td>which multi level marketing products are actua...</td>\n",
              "      <td>0</td>\n",
              "      <td>which multi level market products be actually ...</td>\n",
              "    </tr>\n",
              "    <tr>\n",
              "      <th>...</th>\n",
              "      <td>...</td>\n",
              "      <td>...</td>\n",
              "      <td>...</td>\n",
              "      <td>...</td>\n",
              "    </tr>\n",
              "    <tr>\n",
              "      <th>999995</th>\n",
              "      <td>4bd96088d0b5f0f2c4f4</td>\n",
              "      <td>how is cse at vit chennai?</td>\n",
              "      <td>0</td>\n",
              "      <td>how be cse at vit chennai ?</td>\n",
              "    </tr>\n",
              "    <tr>\n",
              "      <th>999996</th>\n",
              "      <td>e80edbfc086f7125940f</td>\n",
              "      <td>how can we prevent a holocaust by robots, ai, ...</td>\n",
              "      <td>0</td>\n",
              "      <td>how can we prevent a holocaust by robots , ai ...</td>\n",
              "    </tr>\n",
              "    <tr>\n",
              "      <th>999997</th>\n",
              "      <td>1506dfad6bd340782a1f</td>\n",
              "      <td>how can i help a student remember key steps an...</td>\n",
              "      <td>0</td>\n",
              "      <td>how can i help a student remember key step and...</td>\n",
              "    </tr>\n",
              "    <tr>\n",
              "      <th>999998</th>\n",
              "      <td>b56c60fd407f2f85553c</td>\n",
              "      <td>what is the difference between lace closure &amp; ...</td>\n",
              "      <td>0</td>\n",
              "      <td>what be the difference between lace closure &amp; ...</td>\n",
              "    </tr>\n",
              "    <tr>\n",
              "      <th>999999</th>\n",
              "      <td>a1b32d315c2782cdbcc3</td>\n",
              "      <td>what happens when you look into a broken mirror?</td>\n",
              "      <td>0</td>\n",
              "      <td>what happen when you look into a break mirror ?</td>\n",
              "    </tr>\n",
              "  </tbody>\n",
              "</table>\n",
              "<p>978860 rows × 4 columns</p>\n",
              "</div>"
            ],
            "text/plain": [
              "                         qid  \\\n",
              "0       dda0b0efc8ba86e81ec4   \n",
              "1       dc708b74a108d0fc0ad9   \n",
              "2       06a27ec5d82dacd8bfe0   \n",
              "3       00cbb6b17e3ceb7c5358   \n",
              "4       7c304888973a701585a0   \n",
              "...                      ...   \n",
              "999995  4bd96088d0b5f0f2c4f4   \n",
              "999996  e80edbfc086f7125940f   \n",
              "999997  1506dfad6bd340782a1f   \n",
              "999998  b56c60fd407f2f85553c   \n",
              "999999  a1b32d315c2782cdbcc3   \n",
              "\n",
              "                                            question_text  target   \\\n",
              "0       what are interesting facts about microsoft his...        0   \n",
              "1       what are those things which are not gonna happ...        0   \n",
              "2       what should i know to avoid being \"upsold\" whe...        0   \n",
              "3                how i add any account with payment bank?        0   \n",
              "4       which multi level marketing products are actua...        0   \n",
              "...                                                   ...      ...   \n",
              "999995                         how is cse at vit chennai?        0   \n",
              "999996  how can we prevent a holocaust by robots, ai, ...        0   \n",
              "999997  how can i help a student remember key steps an...        0   \n",
              "999998  what is the difference between lace closure & ...        0   \n",
              "999999   what happens when you look into a broken mirror?        0   \n",
              "\n",
              "                                          clean_questions  \n",
              "0        what be interest facts about microsoft history ?  \n",
              "1       what be those things which be not gon na happe...  \n",
              "2       what should i know to avoid be `` upsold '' wh...  \n",
              "3               how i add any account with payment bank ?  \n",
              "4       which multi level market products be actually ...  \n",
              "...                                                   ...  \n",
              "999995                        how be cse at vit chennai ?  \n",
              "999996  how can we prevent a holocaust by robots , ai ...  \n",
              "999997  how can i help a student remember key step and...  \n",
              "999998  what be the difference between lace closure & ...  \n",
              "999999    what happen when you look into a break mirror ?  \n",
              "\n",
              "[978860 rows x 4 columns]"
            ]
          },
          "execution_count": 88,
          "metadata": {},
          "output_type": "execute_result"
        }
      ],
      "source": [
        "train_df"
      ]
    },
    {
      "cell_type": "code",
      "execution_count": 89,
      "metadata": {
        "colab": {
          "base_uri": "https://localhost:8080/",
          "height": 424
        },
        "id": "to5Zy5pRDPk9",
        "outputId": "aadd0c93-a108-4506-8639-6bfed70a7993"
      },
      "outputs": [
        {
          "data": {
            "text/html": [
              "<div>\n",
              "<style scoped>\n",
              "    .dataframe tbody tr th:only-of-type {\n",
              "        vertical-align: middle;\n",
              "    }\n",
              "\n",
              "    .dataframe tbody tr th {\n",
              "        vertical-align: top;\n",
              "    }\n",
              "\n",
              "    .dataframe thead th {\n",
              "        text-align: right;\n",
              "    }\n",
              "</style>\n",
              "<table border=\"1\" class=\"dataframe\">\n",
              "  <thead>\n",
              "    <tr style=\"text-align: right;\">\n",
              "      <th></th>\n",
              "      <th>qid</th>\n",
              "      <th>question_text</th>\n",
              "      <th>clean_questions</th>\n",
              "    </tr>\n",
              "  </thead>\n",
              "  <tbody>\n",
              "    <tr>\n",
              "      <th>0</th>\n",
              "      <td>a4f3da3a3df9dd881edd</td>\n",
              "      <td>my period is due on my wedding day. how can i ...</td>\n",
              "      <td>my period be due on my wed day . how can i sto...</td>\n",
              "    </tr>\n",
              "    <tr>\n",
              "      <th>1</th>\n",
              "      <td>9914c62ed3f69684d549</td>\n",
              "      <td>how many numbers higher than a million can be ...</td>\n",
              "      <td>how many number higher than a million can be f...</td>\n",
              "    </tr>\n",
              "    <tr>\n",
              "      <th>2</th>\n",
              "      <td>8138ae48649e37091a91</td>\n",
              "      <td>how come i feel nothing for my family, but sti...</td>\n",
              "      <td>how come i feel nothing for my family , but st...</td>\n",
              "    </tr>\n",
              "    <tr>\n",
              "      <th>3</th>\n",
              "      <td>981b4753d17ef14d09f7</td>\n",
              "      <td>in case of collapse of the democratic party, w...</td>\n",
              "      <td>in case of collapse of the democratic party , ...</td>\n",
              "    </tr>\n",
              "    <tr>\n",
              "      <th>4</th>\n",
              "      <td>452e2c705276ba16b7b7</td>\n",
              "      <td>who is émile naoumoff?</td>\n",
              "      <td>who be émile naoumoff ?</td>\n",
              "    </tr>\n",
              "    <tr>\n",
              "      <th>...</th>\n",
              "      <td>...</td>\n",
              "      <td>...</td>\n",
              "      <td>...</td>\n",
              "    </tr>\n",
              "    <tr>\n",
              "      <th>306117</th>\n",
              "      <td>a352dff4fcc2571815ce</td>\n",
              "      <td>did anyone get an update on maruti suzuki all ...</td>\n",
              "      <td>do anyone get an update on maruti suzuki all i...</td>\n",
              "    </tr>\n",
              "    <tr>\n",
              "      <th>306118</th>\n",
              "      <td>ad4a8498d97c536c67b9</td>\n",
              "      <td>what 5 people in history do you find the most ...</td>\n",
              "      <td>what 5 people in history do you find the most ...</td>\n",
              "    </tr>\n",
              "    <tr>\n",
              "      <th>306119</th>\n",
              "      <td>19784a27b55d4b453fda</td>\n",
              "      <td>how can i remove the tan on my forehead?</td>\n",
              "      <td>how can i remove the tan on my forehead ?</td>\n",
              "    </tr>\n",
              "    <tr>\n",
              "      <th>306120</th>\n",
              "      <td>370191dba26465997879</td>\n",
              "      <td>if you are a well known hacker, will you be mo...</td>\n",
              "      <td>if you be a well know hacker , will you be mor...</td>\n",
              "    </tr>\n",
              "    <tr>\n",
              "      <th>306121</th>\n",
              "      <td>8077b4a45cea867d4ff2</td>\n",
              "      <td>if your new enemies be bigger and more dangero...</td>\n",
              "      <td>if your new enemies be bigger and more dangero...</td>\n",
              "    </tr>\n",
              "  </tbody>\n",
              "</table>\n",
              "<p>306122 rows × 3 columns</p>\n",
              "</div>"
            ],
            "text/plain": [
              "                         qid  \\\n",
              "0       a4f3da3a3df9dd881edd   \n",
              "1       9914c62ed3f69684d549   \n",
              "2       8138ae48649e37091a91   \n",
              "3       981b4753d17ef14d09f7   \n",
              "4       452e2c705276ba16b7b7   \n",
              "...                      ...   \n",
              "306117  a352dff4fcc2571815ce   \n",
              "306118  ad4a8498d97c536c67b9   \n",
              "306119  19784a27b55d4b453fda   \n",
              "306120  370191dba26465997879   \n",
              "306121  8077b4a45cea867d4ff2   \n",
              "\n",
              "                                            question_text  \\\n",
              "0       my period is due on my wedding day. how can i ...   \n",
              "1       how many numbers higher than a million can be ...   \n",
              "2       how come i feel nothing for my family, but sti...   \n",
              "3       in case of collapse of the democratic party, w...   \n",
              "4                                 who is émile naoumoff?    \n",
              "...                                                   ...   \n",
              "306117  did anyone get an update on maruti suzuki all ...   \n",
              "306118  what 5 people in history do you find the most ...   \n",
              "306119           how can i remove the tan on my forehead?   \n",
              "306120  if you are a well known hacker, will you be mo...   \n",
              "306121  if your new enemies be bigger and more dangero...   \n",
              "\n",
              "                                          clean_questions  \n",
              "0       my period be due on my wed day . how can i sto...  \n",
              "1       how many number higher than a million can be f...  \n",
              "2       how come i feel nothing for my family , but st...  \n",
              "3       in case of collapse of the democratic party , ...  \n",
              "4                                 who be émile naoumoff ?  \n",
              "...                                                   ...  \n",
              "306117  do anyone get an update on maruti suzuki all i...  \n",
              "306118  what 5 people in history do you find the most ...  \n",
              "306119          how can i remove the tan on my forehead ?  \n",
              "306120  if you be a well know hacker , will you be mor...  \n",
              "306121  if your new enemies be bigger and more dangero...  \n",
              "\n",
              "[306122 rows x 3 columns]"
            ]
          },
          "execution_count": 89,
          "metadata": {},
          "output_type": "execute_result"
        }
      ],
      "source": [
        "test_df"
      ]
    },
    {
      "cell_type": "markdown",
      "metadata": {
        "id": "jwO0D0lfDU4f"
      },
      "source": [
        "# Remove Stopwords\n",
        "All the stopwords such as 'a', 'an', 'the', etc are removed as they do not contribute towards predicting the target. The library nltk is used. The library has a vocabulary of stopwords according to which the stopwords are removed."
      ]
    },
    {
      "cell_type": "code",
      "execution_count": 90,
      "metadata": {
        "colab": {
          "base_uri": "https://localhost:8080/"
        },
        "id": "nkuYwPdODWB1",
        "outputId": "85aacf2d-eda6-47b9-d15c-1de499b035c2"
      },
      "outputs": [
        {
          "name": "stderr",
          "output_type": "stream",
          "text": [
            "[nltk_data] Downloading package stopwords to\n",
            "[nltk_data]     /home/bhavjyot/nltk_data...\n",
            "[nltk_data]   Package stopwords is already up-to-date!\n",
            "/tmp/ipykernel_389244/3221863607.py:8: SettingWithCopyWarning: \n",
            "A value is trying to be set on a copy of a slice from a DataFrame.\n",
            "Try using .loc[row_indexer,col_indexer] = value instead\n",
            "\n",
            "See the caveats in the documentation: http://pandas.pydata.org/pandas-docs/stable/user_guide/indexing.html#returning-a-view-versus-a-copy\n",
            "  train_df['without_stopwords'] = train_df['clean_questions'].apply(lambda x: ' '.join([word for word in x.split() if word not in (stop_words)]))\n"
          ]
        }
      ],
      "source": [
        "import nltk\n",
        "nltk.download(\"stopwords\")\n",
        "import nltk.corpus\n",
        "from nltk.corpus import stopwords\n",
        "\n",
        "stop_words = stopwords.words('english')\n",
        "\n",
        "train_df['without_stopwords'] = train_df['clean_questions'].apply(lambda x: ' '.join([word for word in x.split() if word not in (stop_words)]))\n",
        "test_df['without_stopwords'] = test_df['clean_questions'].apply(lambda x: ' '.join([word for word in x.split() if word not in (stop_words)]))"
      ]
    },
    {
      "cell_type": "code",
      "execution_count": 91,
      "metadata": {
        "id": "NQppFgleD7O0"
      },
      "outputs": [
        {
          "name": "stderr",
          "output_type": "stream",
          "text": [
            "/tmp/ipykernel_389244/3173225010.py:6: SettingWithCopyWarning: \n",
            "A value is trying to be set on a copy of a slice from a DataFrame.\n",
            "Try using .loc[row_indexer,col_indexer] = value instead\n",
            "\n",
            "See the caveats in the documentation: http://pandas.pydata.org/pandas-docs/stable/user_guide/indexing.html#returning-a-view-versus-a-copy\n",
            "  train_df['without_stopwords'] = train_df['clean_questions'].apply(lambda x: ' '.join([word for word in x.split() if word not in (sw_spacy)]))\n"
          ]
        }
      ],
      "source": [
        "import spacy\n",
        "#loading the english language small model of spacy\n",
        "en = spacy.load('en_core_web_sm')\n",
        "sw_spacy = en.Defaults.stop_words\n",
        "\n",
        "train_df['without_stopwords'] = train_df['clean_questions'].apply(lambda x: ' '.join([word for word in x.split() if word not in (sw_spacy)]))\n",
        "test_df['without_stopwords'] = test_df['clean_questions'].apply(lambda x: ' '.join([word for word in x.split() if word not in (sw_spacy)]))"
      ]
    },
    {
      "cell_type": "code",
      "execution_count": 92,
      "metadata": {
        "id": "l5SRFLUcfXpC"
      },
      "outputs": [],
      "source": [
        "# import gensim\n",
        "# from gensim.parsing.preprocessing import remove_stopwords, STOPWORDS\n",
        "\n",
        "# train_df['without_stopwords'] = train_df['clean_questions'].apply(lambda x: ' '.join([word for word in x.split() if word not in (STOPWORDS)]))\n",
        "# test_df['without_stopwords'] = test_df['clean_questions'].apply(lambda x: ' '.join([word for word in x.split() if word not in (STOPWORDS)]))"
      ]
    },
    {
      "cell_type": "code",
      "execution_count": 93,
      "metadata": {
        "id": "OuXNawA6gN0D"
      },
      "outputs": [],
      "source": [
        "# from sklearn.feature_extraction.text import ENGLISH_STOP_WORDS\n",
        "\n",
        "# train_df['without_stopwords'] = train_df['clean_questions'].apply(lambda x: ' '.join([word for word in x.split() if word not in (ENGLISH_STOP_WORDS)]))\n",
        "# test_df['without_stopwords'] = test_df['clean_questions'].apply(lambda x: ' '.join([word for word in x.split() if word not in (ENGLISH_STOP_WORDS)]))"
      ]
    },
    {
      "cell_type": "code",
      "execution_count": 94,
      "metadata": {
        "colab": {
          "base_uri": "https://localhost:8080/",
          "height": 624
        },
        "id": "g3yuqgq_EhG_",
        "outputId": "769cd3f9-e72c-41cc-822e-c780ea3f8147"
      },
      "outputs": [
        {
          "data": {
            "text/html": [
              "<div>\n",
              "<style scoped>\n",
              "    .dataframe tbody tr th:only-of-type {\n",
              "        vertical-align: middle;\n",
              "    }\n",
              "\n",
              "    .dataframe tbody tr th {\n",
              "        vertical-align: top;\n",
              "    }\n",
              "\n",
              "    .dataframe thead th {\n",
              "        text-align: right;\n",
              "    }\n",
              "</style>\n",
              "<table border=\"1\" class=\"dataframe\">\n",
              "  <thead>\n",
              "    <tr style=\"text-align: right;\">\n",
              "      <th></th>\n",
              "      <th>qid</th>\n",
              "      <th>question_text</th>\n",
              "      <th>target</th>\n",
              "      <th>clean_questions</th>\n",
              "      <th>without_stopwords</th>\n",
              "    </tr>\n",
              "  </thead>\n",
              "  <tbody>\n",
              "    <tr>\n",
              "      <th>0</th>\n",
              "      <td>dda0b0efc8ba86e81ec4</td>\n",
              "      <td>what are interesting facts about microsoft his...</td>\n",
              "      <td>0</td>\n",
              "      <td>what be interest facts about microsoft history ?</td>\n",
              "      <td>interest facts microsoft history ?</td>\n",
              "    </tr>\n",
              "    <tr>\n",
              "      <th>1</th>\n",
              "      <td>dc708b74a108d0fc0ad9</td>\n",
              "      <td>what are those things which are not gonna happ...</td>\n",
              "      <td>0</td>\n",
              "      <td>what be those things which be not gon na happe...</td>\n",
              "      <td>things gon na happen ?</td>\n",
              "    </tr>\n",
              "    <tr>\n",
              "      <th>2</th>\n",
              "      <td>06a27ec5d82dacd8bfe0</td>\n",
              "      <td>what should i know to avoid being \"upsold\" whe...</td>\n",
              "      <td>0</td>\n",
              "      <td>what should i know to avoid be `` upsold '' wh...</td>\n",
              "      <td>know avoid `` upsold '' car brake change ?</td>\n",
              "    </tr>\n",
              "    <tr>\n",
              "      <th>3</th>\n",
              "      <td>00cbb6b17e3ceb7c5358</td>\n",
              "      <td>how i add any account with payment bank?</td>\n",
              "      <td>0</td>\n",
              "      <td>how i add any account with payment bank ?</td>\n",
              "      <td>add account payment bank ?</td>\n",
              "    </tr>\n",
              "    <tr>\n",
              "      <th>4</th>\n",
              "      <td>7c304888973a701585a0</td>\n",
              "      <td>which multi level marketing products are actua...</td>\n",
              "      <td>0</td>\n",
              "      <td>which multi level market products be actually ...</td>\n",
              "      <td>multi level market products actually worth pur...</td>\n",
              "    </tr>\n",
              "    <tr>\n",
              "      <th>...</th>\n",
              "      <td>...</td>\n",
              "      <td>...</td>\n",
              "      <td>...</td>\n",
              "      <td>...</td>\n",
              "      <td>...</td>\n",
              "    </tr>\n",
              "    <tr>\n",
              "      <th>999995</th>\n",
              "      <td>4bd96088d0b5f0f2c4f4</td>\n",
              "      <td>how is cse at vit chennai?</td>\n",
              "      <td>0</td>\n",
              "      <td>how be cse at vit chennai ?</td>\n",
              "      <td>cse vit chennai ?</td>\n",
              "    </tr>\n",
              "    <tr>\n",
              "      <th>999996</th>\n",
              "      <td>e80edbfc086f7125940f</td>\n",
              "      <td>how can we prevent a holocaust by robots, ai, ...</td>\n",
              "      <td>0</td>\n",
              "      <td>how can we prevent a holocaust by robots , ai ...</td>\n",
              "      <td>prevent holocaust robots , ai , alien ?</td>\n",
              "    </tr>\n",
              "    <tr>\n",
              "      <th>999997</th>\n",
              "      <td>1506dfad6bd340782a1f</td>\n",
              "      <td>how can i help a student remember key steps an...</td>\n",
              "      <td>0</td>\n",
              "      <td>how can i help a student remember key step and...</td>\n",
              "      <td>help student remember key step information wri...</td>\n",
              "    </tr>\n",
              "    <tr>\n",
              "      <th>999998</th>\n",
              "      <td>b56c60fd407f2f85553c</td>\n",
              "      <td>what is the difference between lace closure &amp; ...</td>\n",
              "      <td>0</td>\n",
              "      <td>what be the difference between lace closure &amp; ...</td>\n",
              "      <td>difference lace closure &amp; lace frontals ?</td>\n",
              "    </tr>\n",
              "    <tr>\n",
              "      <th>999999</th>\n",
              "      <td>a1b32d315c2782cdbcc3</td>\n",
              "      <td>what happens when you look into a broken mirror?</td>\n",
              "      <td>0</td>\n",
              "      <td>what happen when you look into a break mirror ?</td>\n",
              "      <td>happen look break mirror ?</td>\n",
              "    </tr>\n",
              "  </tbody>\n",
              "</table>\n",
              "<p>978860 rows × 5 columns</p>\n",
              "</div>"
            ],
            "text/plain": [
              "                         qid  \\\n",
              "0       dda0b0efc8ba86e81ec4   \n",
              "1       dc708b74a108d0fc0ad9   \n",
              "2       06a27ec5d82dacd8bfe0   \n",
              "3       00cbb6b17e3ceb7c5358   \n",
              "4       7c304888973a701585a0   \n",
              "...                      ...   \n",
              "999995  4bd96088d0b5f0f2c4f4   \n",
              "999996  e80edbfc086f7125940f   \n",
              "999997  1506dfad6bd340782a1f   \n",
              "999998  b56c60fd407f2f85553c   \n",
              "999999  a1b32d315c2782cdbcc3   \n",
              "\n",
              "                                            question_text  target   \\\n",
              "0       what are interesting facts about microsoft his...        0   \n",
              "1       what are those things which are not gonna happ...        0   \n",
              "2       what should i know to avoid being \"upsold\" whe...        0   \n",
              "3                how i add any account with payment bank?        0   \n",
              "4       which multi level marketing products are actua...        0   \n",
              "...                                                   ...      ...   \n",
              "999995                         how is cse at vit chennai?        0   \n",
              "999996  how can we prevent a holocaust by robots, ai, ...        0   \n",
              "999997  how can i help a student remember key steps an...        0   \n",
              "999998  what is the difference between lace closure & ...        0   \n",
              "999999   what happens when you look into a broken mirror?        0   \n",
              "\n",
              "                                          clean_questions  \\\n",
              "0        what be interest facts about microsoft history ?   \n",
              "1       what be those things which be not gon na happe...   \n",
              "2       what should i know to avoid be `` upsold '' wh...   \n",
              "3               how i add any account with payment bank ?   \n",
              "4       which multi level market products be actually ...   \n",
              "...                                                   ...   \n",
              "999995                        how be cse at vit chennai ?   \n",
              "999996  how can we prevent a holocaust by robots , ai ...   \n",
              "999997  how can i help a student remember key step and...   \n",
              "999998  what be the difference between lace closure & ...   \n",
              "999999    what happen when you look into a break mirror ?   \n",
              "\n",
              "                                        without_stopwords  \n",
              "0                      interest facts microsoft history ?  \n",
              "1                                  things gon na happen ?  \n",
              "2              know avoid `` upsold '' car brake change ?  \n",
              "3                              add account payment bank ?  \n",
              "4       multi level market products actually worth pur...  \n",
              "...                                                   ...  \n",
              "999995                                  cse vit chennai ?  \n",
              "999996            prevent holocaust robots , ai , alien ?  \n",
              "999997  help student remember key step information wri...  \n",
              "999998          difference lace closure & lace frontals ?  \n",
              "999999                         happen look break mirror ?  \n",
              "\n",
              "[978860 rows x 5 columns]"
            ]
          },
          "execution_count": 94,
          "metadata": {},
          "output_type": "execute_result"
        }
      ],
      "source": [
        "train_df"
      ]
    },
    {
      "cell_type": "code",
      "execution_count": 95,
      "metadata": {
        "colab": {
          "base_uri": "https://localhost:8080/",
          "height": 624
        },
        "id": "ZfBtRWdwEkmT",
        "outputId": "ff5ac659-e311-40d7-cfed-68f4ba52c655"
      },
      "outputs": [
        {
          "data": {
            "text/html": [
              "<div>\n",
              "<style scoped>\n",
              "    .dataframe tbody tr th:only-of-type {\n",
              "        vertical-align: middle;\n",
              "    }\n",
              "\n",
              "    .dataframe tbody tr th {\n",
              "        vertical-align: top;\n",
              "    }\n",
              "\n",
              "    .dataframe thead th {\n",
              "        text-align: right;\n",
              "    }\n",
              "</style>\n",
              "<table border=\"1\" class=\"dataframe\">\n",
              "  <thead>\n",
              "    <tr style=\"text-align: right;\">\n",
              "      <th></th>\n",
              "      <th>qid</th>\n",
              "      <th>question_text</th>\n",
              "      <th>clean_questions</th>\n",
              "      <th>without_stopwords</th>\n",
              "    </tr>\n",
              "  </thead>\n",
              "  <tbody>\n",
              "    <tr>\n",
              "      <th>0</th>\n",
              "      <td>a4f3da3a3df9dd881edd</td>\n",
              "      <td>my period is due on my wedding day. how can i ...</td>\n",
              "      <td>my period be due on my wed day . how can i sto...</td>\n",
              "      <td>period wed day . stop ? pill option .</td>\n",
              "    </tr>\n",
              "    <tr>\n",
              "      <th>1</th>\n",
              "      <td>9914c62ed3f69684d549</td>\n",
              "      <td>how many numbers higher than a million can be ...</td>\n",
              "      <td>how many number higher than a million can be f...</td>\n",
              "      <td>number higher million form digits 0,4,4,5,5,5,3 ?</td>\n",
              "    </tr>\n",
              "    <tr>\n",
              "      <th>2</th>\n",
              "      <td>8138ae48649e37091a91</td>\n",
              "      <td>how come i feel nothing for my family, but sti...</td>\n",
              "      <td>how come i feel nothing for my family , but st...</td>\n",
              "      <td>come feel family , love pet friends ? like hat...</td>\n",
              "    </tr>\n",
              "    <tr>\n",
              "      <th>3</th>\n",
              "      <td>981b4753d17ef14d09f7</td>\n",
              "      <td>in case of collapse of the democratic party, w...</td>\n",
              "      <td>in case of collapse of the democratic party , ...</td>\n",
              "      <td>case collapse democratic party , republican pa...</td>\n",
              "    </tr>\n",
              "    <tr>\n",
              "      <th>4</th>\n",
              "      <td>452e2c705276ba16b7b7</td>\n",
              "      <td>who is émile naoumoff?</td>\n",
              "      <td>who be émile naoumoff ?</td>\n",
              "      <td>émile naoumoff ?</td>\n",
              "    </tr>\n",
              "    <tr>\n",
              "      <th>...</th>\n",
              "      <td>...</td>\n",
              "      <td>...</td>\n",
              "      <td>...</td>\n",
              "      <td>...</td>\n",
              "    </tr>\n",
              "    <tr>\n",
              "      <th>306117</th>\n",
              "      <td>a352dff4fcc2571815ce</td>\n",
              "      <td>did anyone get an update on maruti suzuki all ...</td>\n",
              "      <td>do anyone get an update on maruti suzuki all i...</td>\n",
              "      <td>update maruti suzuki india engineer hire exam ...</td>\n",
              "    </tr>\n",
              "    <tr>\n",
              "      <th>306118</th>\n",
              "      <td>ad4a8498d97c536c67b9</td>\n",
              "      <td>what 5 people in history do you find the most ...</td>\n",
              "      <td>what 5 people in history do you find the most ...</td>\n",
              "      <td>5 people history find interest ?</td>\n",
              "    </tr>\n",
              "    <tr>\n",
              "      <th>306119</th>\n",
              "      <td>19784a27b55d4b453fda</td>\n",
              "      <td>how can i remove the tan on my forehead?</td>\n",
              "      <td>how can i remove the tan on my forehead ?</td>\n",
              "      <td>remove tan forehead ?</td>\n",
              "    </tr>\n",
              "    <tr>\n",
              "      <th>306120</th>\n",
              "      <td>370191dba26465997879</td>\n",
              "      <td>if you are a well known hacker, will you be mo...</td>\n",
              "      <td>if you be a well know hacker , will you be mor...</td>\n",
              "      <td>know hacker , prone hack ?</td>\n",
              "    </tr>\n",
              "    <tr>\n",
              "      <th>306121</th>\n",
              "      <td>8077b4a45cea867d4ff2</td>\n",
              "      <td>if your new enemies be bigger and more dangero...</td>\n",
              "      <td>if your new enemies be bigger and more dangero...</td>\n",
              "      <td>new enemies bigger dangerous old enemies , mea...</td>\n",
              "    </tr>\n",
              "  </tbody>\n",
              "</table>\n",
              "<p>306122 rows × 4 columns</p>\n",
              "</div>"
            ],
            "text/plain": [
              "                         qid  \\\n",
              "0       a4f3da3a3df9dd881edd   \n",
              "1       9914c62ed3f69684d549   \n",
              "2       8138ae48649e37091a91   \n",
              "3       981b4753d17ef14d09f7   \n",
              "4       452e2c705276ba16b7b7   \n",
              "...                      ...   \n",
              "306117  a352dff4fcc2571815ce   \n",
              "306118  ad4a8498d97c536c67b9   \n",
              "306119  19784a27b55d4b453fda   \n",
              "306120  370191dba26465997879   \n",
              "306121  8077b4a45cea867d4ff2   \n",
              "\n",
              "                                            question_text  \\\n",
              "0       my period is due on my wedding day. how can i ...   \n",
              "1       how many numbers higher than a million can be ...   \n",
              "2       how come i feel nothing for my family, but sti...   \n",
              "3       in case of collapse of the democratic party, w...   \n",
              "4                                 who is émile naoumoff?    \n",
              "...                                                   ...   \n",
              "306117  did anyone get an update on maruti suzuki all ...   \n",
              "306118  what 5 people in history do you find the most ...   \n",
              "306119           how can i remove the tan on my forehead?   \n",
              "306120  if you are a well known hacker, will you be mo...   \n",
              "306121  if your new enemies be bigger and more dangero...   \n",
              "\n",
              "                                          clean_questions  \\\n",
              "0       my period be due on my wed day . how can i sto...   \n",
              "1       how many number higher than a million can be f...   \n",
              "2       how come i feel nothing for my family , but st...   \n",
              "3       in case of collapse of the democratic party , ...   \n",
              "4                                 who be émile naoumoff ?   \n",
              "...                                                   ...   \n",
              "306117  do anyone get an update on maruti suzuki all i...   \n",
              "306118  what 5 people in history do you find the most ...   \n",
              "306119          how can i remove the tan on my forehead ?   \n",
              "306120  if you be a well know hacker , will you be mor...   \n",
              "306121  if your new enemies be bigger and more dangero...   \n",
              "\n",
              "                                        without_stopwords  \n",
              "0                   period wed day . stop ? pill option .  \n",
              "1       number higher million form digits 0,4,4,5,5,5,3 ?  \n",
              "2       come feel family , love pet friends ? like hat...  \n",
              "3       case collapse democratic party , republican pa...  \n",
              "4                                        émile naoumoff ?  \n",
              "...                                                   ...  \n",
              "306117  update maruti suzuki india engineer hire exam ...  \n",
              "306118                   5 people history find interest ?  \n",
              "306119                              remove tan forehead ?  \n",
              "306120                         know hacker , prone hack ?  \n",
              "306121  new enemies bigger dangerous old enemies , mea...  \n",
              "\n",
              "[306122 rows x 4 columns]"
            ]
          },
          "execution_count": 95,
          "metadata": {},
          "output_type": "execute_result"
        }
      ],
      "source": [
        "test_df"
      ]
    },
    {
      "cell_type": "code",
      "execution_count": 96,
      "metadata": {
        "id": "FGUllsKUEpgo"
      },
      "outputs": [],
      "source": [
        "list_of_questions_train = train_df['without_stopwords'].to_list()\n",
        "og_list_of_questions_train = train_df['clean_questions'].to_list()\n",
        "\n",
        "list_of_questions_test = test_df['without_stopwords'].to_list()\n",
        "og_list_of_questions_test = test_df['clean_questions'].to_list()"
      ]
    },
    {
      "cell_type": "markdown",
      "metadata": {
        "id": "Et_nBLcjE6pg"
      },
      "source": [
        "# Tokenization\n",
        "Tokenization is performed by using the CountVectorizer."
      ]
    },
    {
      "cell_type": "code",
      "execution_count": 97,
      "metadata": {
        "id": "UYZj3SwME3F7"
      },
      "outputs": [],
      "source": [
        "bow_transformer =  CountVectorizer()  \n",
        "bow_transformer_train = bow_transformer.fit(list_of_questions_train)\n",
        "bow_transformer_test = bow_transformer.fit(list_of_questions_test)"
      ]
    },
    {
      "cell_type": "code",
      "execution_count": 98,
      "metadata": {
        "id": "EpxrbDwcFj04"
      },
      "outputs": [],
      "source": [
        "messages_bow_train = bow_transformer_train.transform(list_of_questions_train)\n",
        "messages_bow_test = bow_transformer_train.transform(list_of_questions_test)"
      ]
    },
    {
      "cell_type": "markdown",
      "metadata": {
        "id": "dOzDA8VKGwND"
      },
      "source": [
        "# TF-IDF \n",
        "TF-IDF is performed on the corpus which we get after performing tokenization."
      ]
    },
    {
      "cell_type": "code",
      "execution_count": 99,
      "metadata": {
        "id": "3sKqvif8Gu0d"
      },
      "outputs": [],
      "source": [
        "tfidf_transformer_train = TfidfTransformer().fit(messages_bow_train)  #Applying TF-ID to our questions\n",
        "tfidf_transformer_test = TfidfTransformer().fit(messages_bow_test)  #Applying TF-ID to our questions\n",
        "\n",
        "train_set = tfidf_transformer_train.transform(messages_bow_train) \n",
        "test_set = tfidf_transformer_train.transform(messages_bow_test) "
      ]
    },
    {
      "cell_type": "code",
      "execution_count": 100,
      "metadata": {
        "colab": {
          "base_uri": "https://localhost:8080/"
        },
        "id": "m0BvhxqkKrXx",
        "outputId": "7c46ccbb-4d00-4bfe-a47a-aec5dfa66180"
      },
      "outputs": [
        {
          "data": {
            "text/plain": [
              "<978860x84732 sparse matrix of type '<class 'numpy.float64'>'\n",
              "\twith 5318357 stored elements in Compressed Sparse Row format>"
            ]
          },
          "execution_count": 100,
          "metadata": {},
          "output_type": "execute_result"
        }
      ],
      "source": [
        "train_set"
      ]
    },
    {
      "cell_type": "markdown",
      "metadata": {
        "id": "pLr_EZBzH7J5"
      },
      "source": [
        "# Data Splitting\n",
        "Data is split in the ratio of 80-20 into train data and test data respectively."
      ]
    },
    {
      "cell_type": "code",
      "execution_count": 101,
      "metadata": {
        "colab": {
          "base_uri": "https://localhost:8080/"
        },
        "id": "3erL7Va4IKpq",
        "outputId": "36c34807-9092-4e86-b05d-86ccbc7fe211"
      },
      "outputs": [
        {
          "data": {
            "text/plain": [
              "array([0., 0., 0., ..., 0., 0., 0.])"
            ]
          },
          "execution_count": 101,
          "metadata": {},
          "output_type": "execute_result"
        }
      ],
      "source": [
        "train_target = train_df.iloc[:,2]\n",
        "train_target = train_target.to_numpy().astype(np.float64)\n",
        "train_target"
      ]
    },
    {
      "cell_type": "code",
      "execution_count": 102,
      "metadata": {
        "colab": {
          "base_uri": "https://localhost:8080/"
        },
        "id": "pojqWmllKXvx",
        "outputId": "c27d4213-674d-433b-8950-98d5ff37656a"
      },
      "outputs": [
        {
          "data": {
            "text/plain": [
              "(978860,)"
            ]
          },
          "execution_count": 102,
          "metadata": {},
          "output_type": "execute_result"
        }
      ],
      "source": [
        "train_target.shape"
      ]
    },
    {
      "cell_type": "code",
      "execution_count": 103,
      "metadata": {
        "id": "J0usj1atH-z1"
      },
      "outputs": [],
      "source": [
        "X_train, X_test, y_train, y_test = train_test_split(train_set, train_target, test_size=0.2, random_state=42)"
      ]
    },
    {
      "cell_type": "code",
      "execution_count": 104,
      "metadata": {
        "colab": {
          "base_uri": "https://localhost:8080/"
        },
        "id": "vzl6pt7TKo5C",
        "outputId": "607325d9-e595-4cf0-b0f3-01659c7d9c29"
      },
      "outputs": [
        {
          "data": {
            "text/plain": [
              "((783088, 84732), (306122, 84732))"
            ]
          },
          "execution_count": 104,
          "metadata": {},
          "output_type": "execute_result"
        }
      ],
      "source": [
        "X_train.shape, test_set.shape"
      ]
    },
    {
      "cell_type": "markdown",
      "metadata": {
        "id": "S7nfJ8pEIQf8"
      },
      "source": [
        "# Multinomial Naive Bayes Classifier"
      ]
    },
    {
      "cell_type": "code",
      "execution_count": 105,
      "metadata": {
        "id": "tMFj8JvQIbDB"
      },
      "outputs": [],
      "source": [
        "classifier = MultinomialNB()\n",
        "classifier.fit(X_train,y_train)      #training the model\n",
        "\n",
        "y_pred_train = classifier.predict(X_train)\n",
        "y_pred_test = classifier.predict(X_test)"
      ]
    },
    {
      "cell_type": "code",
      "execution_count": 106,
      "metadata": {
        "colab": {
          "base_uri": "https://localhost:8080/"
        },
        "id": "oE55bN4KIxfw",
        "outputId": "7d0424e8-56f0-4458-a075-e87e6db5f528"
      },
      "outputs": [
        {
          "name": "stdout",
          "output_type": "stream",
          "text": [
            "              precision    recall  f1-score   support\n",
            "\n",
            "         0.0       0.95      1.00      0.97    736911\n",
            "         1.0       0.78      0.12      0.21     46177\n",
            "\n",
            "    accuracy                           0.95    783088\n",
            "   macro avg       0.87      0.56      0.59    783088\n",
            "weighted avg       0.94      0.95      0.93    783088\n",
            "\n",
            "0.2148689299527288\n",
            "0.9463393641583066\n"
          ]
        }
      ],
      "source": [
        "print(classification_report(y_train,y_pred_train))   #Results\n",
        "print(f1_score(y_train, y_pred_train))\n",
        "print(accuracy_score(y_train, y_pred_train))"
      ]
    },
    {
      "cell_type": "code",
      "execution_count": 107,
      "metadata": {
        "colab": {
          "base_uri": "https://localhost:8080/"
        },
        "id": "JKHgL8EjLu5x",
        "outputId": "c6342c5f-97e2-480a-fa56-c4fb8c211261"
      },
      "outputs": [
        {
          "name": "stdout",
          "output_type": "stream",
          "text": [
            "              precision    recall  f1-score   support\n",
            "\n",
            "         0.0       0.95      1.00      0.97    184128\n",
            "         1.0       0.73      0.11      0.19     11644\n",
            "\n",
            "    accuracy                           0.94    195772\n",
            "   macro avg       0.84      0.55      0.58    195772\n",
            "weighted avg       0.93      0.94      0.92    195772\n",
            "\n",
            "0.1891669779604034\n",
            "0.9445630631550987\n"
          ]
        }
      ],
      "source": [
        "print(classification_report(y_test,y_pred_test))   #Results\n",
        "print(f1_score(y_test, y_pred_test))\n",
        "print(accuracy_score(y_test, y_pred_test))"
      ]
    },
    {
      "cell_type": "code",
      "execution_count": 108,
      "metadata": {
        "id": "AzWLbumdMBPd"
      },
      "outputs": [],
      "source": [
        "y_pred = classifier.predict(test_set)\n",
        "y_pred = y_pred.astype(int)\n",
        "\n",
        "Test_DF_TARGET = pd.DataFrame(y_pred,columns=['target'])\n",
        "TEST_DF_QID = pd.DataFrame(test_df ,columns=['qid'])\n",
        "TEST_DF = pd.concat([TEST_DF_QID, Test_DF_TARGET], axis=1, join='inner')\n",
        "TEST_DF.to_csv(\"sample_submission.csv\",index=False)"
      ]
    },
    {
      "cell_type": "markdown",
      "metadata": {
        "id": "7Jtf8RbrbaBW"
      },
      "source": [
        "# Removing Biasness from Data\n",
        "As the data is highly biased, the biasness in the data is removed by under-sampling. In this, the class which is in majority is reduced in size which is much smaller than the actua datapoints under that class.\n",
        "In the train_df.csv file, we have roughly 930,000 questions labelled as spam and roughly 70,000 questions labelled as troll out of the totall 10,00,000 questions in the dataset. So the balanced dataset after the sampling contains approximately 100,000 questions which are marked as spam and 70,000 questions labelled as troll. We then shuffle the complete dataset and train our Multinomial Naive Bayes on this dataframe."
      ]
    },
    {
      "cell_type": "code",
      "execution_count": 109,
      "metadata": {
        "colab": {
          "base_uri": "https://localhost:8080/",
          "height": 624
        },
        "id": "bnx161Ughop2",
        "outputId": "43c51004-62e9-4397-a919-a37bf64441d5"
      },
      "outputs": [
        {
          "data": {
            "text/html": [
              "<div>\n",
              "<style scoped>\n",
              "    .dataframe tbody tr th:only-of-type {\n",
              "        vertical-align: middle;\n",
              "    }\n",
              "\n",
              "    .dataframe tbody tr th {\n",
              "        vertical-align: top;\n",
              "    }\n",
              "\n",
              "    .dataframe thead th {\n",
              "        text-align: right;\n",
              "    }\n",
              "</style>\n",
              "<table border=\"1\" class=\"dataframe\">\n",
              "  <thead>\n",
              "    <tr style=\"text-align: right;\">\n",
              "      <th></th>\n",
              "      <th>qid</th>\n",
              "      <th>question_text</th>\n",
              "      <th>target</th>\n",
              "      <th>clean_questions</th>\n",
              "      <th>without_stopwords</th>\n",
              "    </tr>\n",
              "  </thead>\n",
              "  <tbody>\n",
              "    <tr>\n",
              "      <th>0</th>\n",
              "      <td>dda0b0efc8ba86e81ec4</td>\n",
              "      <td>what are interesting facts about microsoft his...</td>\n",
              "      <td>0</td>\n",
              "      <td>what be interest facts about microsoft history ?</td>\n",
              "      <td>interest facts microsoft history ?</td>\n",
              "    </tr>\n",
              "    <tr>\n",
              "      <th>1</th>\n",
              "      <td>dc708b74a108d0fc0ad9</td>\n",
              "      <td>what are those things which are not gonna happ...</td>\n",
              "      <td>0</td>\n",
              "      <td>what be those things which be not gon na happe...</td>\n",
              "      <td>things gon na happen ?</td>\n",
              "    </tr>\n",
              "    <tr>\n",
              "      <th>2</th>\n",
              "      <td>06a27ec5d82dacd8bfe0</td>\n",
              "      <td>what should i know to avoid being \"upsold\" whe...</td>\n",
              "      <td>0</td>\n",
              "      <td>what should i know to avoid be `` upsold '' wh...</td>\n",
              "      <td>know avoid `` upsold '' car brake change ?</td>\n",
              "    </tr>\n",
              "    <tr>\n",
              "      <th>3</th>\n",
              "      <td>00cbb6b17e3ceb7c5358</td>\n",
              "      <td>how i add any account with payment bank?</td>\n",
              "      <td>0</td>\n",
              "      <td>how i add any account with payment bank ?</td>\n",
              "      <td>add account payment bank ?</td>\n",
              "    </tr>\n",
              "    <tr>\n",
              "      <th>4</th>\n",
              "      <td>7c304888973a701585a0</td>\n",
              "      <td>which multi level marketing products are actua...</td>\n",
              "      <td>0</td>\n",
              "      <td>which multi level market products be actually ...</td>\n",
              "      <td>multi level market products actually worth pur...</td>\n",
              "    </tr>\n",
              "    <tr>\n",
              "      <th>...</th>\n",
              "      <td>...</td>\n",
              "      <td>...</td>\n",
              "      <td>...</td>\n",
              "      <td>...</td>\n",
              "      <td>...</td>\n",
              "    </tr>\n",
              "    <tr>\n",
              "      <th>999995</th>\n",
              "      <td>4bd96088d0b5f0f2c4f4</td>\n",
              "      <td>how is cse at vit chennai?</td>\n",
              "      <td>0</td>\n",
              "      <td>how be cse at vit chennai ?</td>\n",
              "      <td>cse vit chennai ?</td>\n",
              "    </tr>\n",
              "    <tr>\n",
              "      <th>999996</th>\n",
              "      <td>e80edbfc086f7125940f</td>\n",
              "      <td>how can we prevent a holocaust by robots, ai, ...</td>\n",
              "      <td>0</td>\n",
              "      <td>how can we prevent a holocaust by robots , ai ...</td>\n",
              "      <td>prevent holocaust robots , ai , alien ?</td>\n",
              "    </tr>\n",
              "    <tr>\n",
              "      <th>999997</th>\n",
              "      <td>1506dfad6bd340782a1f</td>\n",
              "      <td>how can i help a student remember key steps an...</td>\n",
              "      <td>0</td>\n",
              "      <td>how can i help a student remember key step and...</td>\n",
              "      <td>help student remember key step information wri...</td>\n",
              "    </tr>\n",
              "    <tr>\n",
              "      <th>999998</th>\n",
              "      <td>b56c60fd407f2f85553c</td>\n",
              "      <td>what is the difference between lace closure &amp; ...</td>\n",
              "      <td>0</td>\n",
              "      <td>what be the difference between lace closure &amp; ...</td>\n",
              "      <td>difference lace closure &amp; lace frontals ?</td>\n",
              "    </tr>\n",
              "    <tr>\n",
              "      <th>999999</th>\n",
              "      <td>a1b32d315c2782cdbcc3</td>\n",
              "      <td>what happens when you look into a broken mirror?</td>\n",
              "      <td>0</td>\n",
              "      <td>what happen when you look into a break mirror ?</td>\n",
              "      <td>happen look break mirror ?</td>\n",
              "    </tr>\n",
              "  </tbody>\n",
              "</table>\n",
              "<p>978860 rows × 5 columns</p>\n",
              "</div>"
            ],
            "text/plain": [
              "                         qid  \\\n",
              "0       dda0b0efc8ba86e81ec4   \n",
              "1       dc708b74a108d0fc0ad9   \n",
              "2       06a27ec5d82dacd8bfe0   \n",
              "3       00cbb6b17e3ceb7c5358   \n",
              "4       7c304888973a701585a0   \n",
              "...                      ...   \n",
              "999995  4bd96088d0b5f0f2c4f4   \n",
              "999996  e80edbfc086f7125940f   \n",
              "999997  1506dfad6bd340782a1f   \n",
              "999998  b56c60fd407f2f85553c   \n",
              "999999  a1b32d315c2782cdbcc3   \n",
              "\n",
              "                                            question_text  target   \\\n",
              "0       what are interesting facts about microsoft his...        0   \n",
              "1       what are those things which are not gonna happ...        0   \n",
              "2       what should i know to avoid being \"upsold\" whe...        0   \n",
              "3                how i add any account with payment bank?        0   \n",
              "4       which multi level marketing products are actua...        0   \n",
              "...                                                   ...      ...   \n",
              "999995                         how is cse at vit chennai?        0   \n",
              "999996  how can we prevent a holocaust by robots, ai, ...        0   \n",
              "999997  how can i help a student remember key steps an...        0   \n",
              "999998  what is the difference between lace closure & ...        0   \n",
              "999999   what happens when you look into a broken mirror?        0   \n",
              "\n",
              "                                          clean_questions  \\\n",
              "0        what be interest facts about microsoft history ?   \n",
              "1       what be those things which be not gon na happe...   \n",
              "2       what should i know to avoid be `` upsold '' wh...   \n",
              "3               how i add any account with payment bank ?   \n",
              "4       which multi level market products be actually ...   \n",
              "...                                                   ...   \n",
              "999995                        how be cse at vit chennai ?   \n",
              "999996  how can we prevent a holocaust by robots , ai ...   \n",
              "999997  how can i help a student remember key step and...   \n",
              "999998  what be the difference between lace closure & ...   \n",
              "999999    what happen when you look into a break mirror ?   \n",
              "\n",
              "                                        without_stopwords  \n",
              "0                      interest facts microsoft history ?  \n",
              "1                                  things gon na happen ?  \n",
              "2              know avoid `` upsold '' car brake change ?  \n",
              "3                              add account payment bank ?  \n",
              "4       multi level market products actually worth pur...  \n",
              "...                                                   ...  \n",
              "999995                                  cse vit chennai ?  \n",
              "999996            prevent holocaust robots , ai , alien ?  \n",
              "999997  help student remember key step information wri...  \n",
              "999998          difference lace closure & lace frontals ?  \n",
              "999999                         happen look break mirror ?  \n",
              "\n",
              "[978860 rows x 5 columns]"
            ]
          },
          "execution_count": 109,
          "metadata": {},
          "output_type": "execute_result"
        }
      ],
      "source": [
        "train_df"
      ]
    },
    {
      "cell_type": "code",
      "execution_count": 110,
      "metadata": {
        "colab": {
          "base_uri": "https://localhost:8080/"
        },
        "id": "M6dAqb_uMYRG",
        "outputId": "b19444d8-cb11-49ec-c20e-c6232acfeae4"
      },
      "outputs": [
        {
          "data": {
            "text/plain": [
              "((921039, 5), (57821, 5))"
            ]
          },
          "execution_count": 110,
          "metadata": {},
          "output_type": "execute_result"
        }
      ],
      "source": [
        "spam_df = train_df.loc[train_df.iloc[:, 2] == 0]\n",
        "troll_df = train_df.loc[train_df.iloc[:, 2] == 1]\n",
        "spam_df.shape, troll_df.shape"
      ]
    },
    {
      "cell_type": "code",
      "execution_count": 111,
      "metadata": {
        "id": "eFjghyZvblmh"
      },
      "outputs": [],
      "source": [
        "transferdata_df = spam_df.sample(n = 100000, random_state = 42)\n",
        "frames = [transferdata_df, troll_df]\n",
        "balanced_df = pd.concat(frames)\n",
        "balanced_df = balanced_df.sample(frac=1)"
      ]
    },
    {
      "cell_type": "code",
      "execution_count": 112,
      "metadata": {
        "colab": {
          "base_uri": "https://localhost:8080/",
          "height": 606
        },
        "id": "auuUtsF-ipWz",
        "outputId": "a3685ebe-a77c-4f0b-ae2b-ed461c08ea00"
      },
      "outputs": [
        {
          "data": {
            "text/html": [
              "<div>\n",
              "<style scoped>\n",
              "    .dataframe tbody tr th:only-of-type {\n",
              "        vertical-align: middle;\n",
              "    }\n",
              "\n",
              "    .dataframe tbody tr th {\n",
              "        vertical-align: top;\n",
              "    }\n",
              "\n",
              "    .dataframe thead th {\n",
              "        text-align: right;\n",
              "    }\n",
              "</style>\n",
              "<table border=\"1\" class=\"dataframe\">\n",
              "  <thead>\n",
              "    <tr style=\"text-align: right;\">\n",
              "      <th></th>\n",
              "      <th>qid</th>\n",
              "      <th>question_text</th>\n",
              "      <th>target</th>\n",
              "      <th>clean_questions</th>\n",
              "      <th>without_stopwords</th>\n",
              "    </tr>\n",
              "  </thead>\n",
              "  <tbody>\n",
              "    <tr>\n",
              "      <th>704699</th>\n",
              "      <td>dc00684ae996ddf043eb</td>\n",
              "      <td>why is akhilesh yadav sending his goons behind...</td>\n",
              "      <td>1</td>\n",
              "      <td>why be akhilesh yadav send his goons behind wo...</td>\n",
              "      <td>akhilesh yadav send goons women rape defame yo...</td>\n",
              "    </tr>\n",
              "    <tr>\n",
              "      <th>129645</th>\n",
              "      <td>53d1c159e133c1886e33</td>\n",
              "      <td>how can i know if someone blocked me?</td>\n",
              "      <td>0</td>\n",
              "      <td>how can i know if someone block me ?</td>\n",
              "      <td>know block ?</td>\n",
              "    </tr>\n",
              "    <tr>\n",
              "      <th>454203</th>\n",
              "      <td>c29fe962a4b1e989f825</td>\n",
              "      <td>why are japanese people, in any kind of non-ma...</td>\n",
              "      <td>1</td>\n",
              "      <td>why be japanese people , in any kind of non-ma...</td>\n",
              "      <td>japanese people , kind non-mass transport traf...</td>\n",
              "    </tr>\n",
              "    <tr>\n",
              "      <th>918584</th>\n",
              "      <td>fb1b817322f36573a4ff</td>\n",
              "      <td>what are some signs teachers only care about t...</td>\n",
              "      <td>0</td>\n",
              "      <td>what be some sign teachers only care about the...</td>\n",
              "      <td>sign teachers care money ?</td>\n",
              "    </tr>\n",
              "    <tr>\n",
              "      <th>819570</th>\n",
              "      <td>1dc05743320243136e2e</td>\n",
              "      <td>what do japanese people think of kinoshita yuka?</td>\n",
              "      <td>0</td>\n",
              "      <td>what do japanese people think of kinoshita yuka ?</td>\n",
              "      <td>japanese people think kinoshita yuka ?</td>\n",
              "    </tr>\n",
              "    <tr>\n",
              "      <th>...</th>\n",
              "      <td>...</td>\n",
              "      <td>...</td>\n",
              "      <td>...</td>\n",
              "      <td>...</td>\n",
              "      <td>...</td>\n",
              "    </tr>\n",
              "    <tr>\n",
              "      <th>285211</th>\n",
              "      <td>fd97b988137b41a2bb9a</td>\n",
              "      <td>why did socrates believe that self-knowledge w...</td>\n",
              "      <td>0</td>\n",
              "      <td>why do socrates believe that self-knowledge be...</td>\n",
              "      <td>socrates believe self-knowledge sign education ?</td>\n",
              "    </tr>\n",
              "    <tr>\n",
              "      <th>868135</th>\n",
              "      <td>d62a700003d811955029</td>\n",
              "      <td>how did christianity come to senegal?</td>\n",
              "      <td>0</td>\n",
              "      <td>how do christianity come to senegal ?</td>\n",
              "      <td>christianity come senegal ?</td>\n",
              "    </tr>\n",
              "    <tr>\n",
              "      <th>513297</th>\n",
              "      <td>1b67e0f79885dbe6ae27</td>\n",
              "      <td>i have a weeping 2 inch poison ivy wound on ne...</td>\n",
              "      <td>0</td>\n",
              "      <td>i have a weep 2 inch poison ivy wind on neck ?...</td>\n",
              "      <td>weep 2 inch poison ivy wind neck ? heal ?</td>\n",
              "    </tr>\n",
              "    <tr>\n",
              "      <th>956724</th>\n",
              "      <td>826949ec414241fa836f</td>\n",
              "      <td>how can i tell jennifer lawrence that i want t...</td>\n",
              "      <td>0</td>\n",
              "      <td>how can i tell jennifer lawrence that i want t...</td>\n",
              "      <td>tell jennifer lawrence want friend impossible ...</td>\n",
              "    </tr>\n",
              "    <tr>\n",
              "      <th>727680</th>\n",
              "      <td>8be56f9b7615847223db</td>\n",
              "      <td>is sex between real siblings really excised?</td>\n",
              "      <td>1</td>\n",
              "      <td>be sex between real siblings really excise ?</td>\n",
              "      <td>sex real siblings excise ?</td>\n",
              "    </tr>\n",
              "  </tbody>\n",
              "</table>\n",
              "<p>157821 rows × 5 columns</p>\n",
              "</div>"
            ],
            "text/plain": [
              "                         qid  \\\n",
              "704699  dc00684ae996ddf043eb   \n",
              "129645  53d1c159e133c1886e33   \n",
              "454203  c29fe962a4b1e989f825   \n",
              "918584  fb1b817322f36573a4ff   \n",
              "819570  1dc05743320243136e2e   \n",
              "...                      ...   \n",
              "285211  fd97b988137b41a2bb9a   \n",
              "868135  d62a700003d811955029   \n",
              "513297  1b67e0f79885dbe6ae27   \n",
              "956724  826949ec414241fa836f   \n",
              "727680  8be56f9b7615847223db   \n",
              "\n",
              "                                            question_text  target   \\\n",
              "704699  why is akhilesh yadav sending his goons behind...        1   \n",
              "129645              how can i know if someone blocked me?        0   \n",
              "454203  why are japanese people, in any kind of non-ma...        1   \n",
              "918584  what are some signs teachers only care about t...        0   \n",
              "819570   what do japanese people think of kinoshita yuka?        0   \n",
              "...                                                   ...      ...   \n",
              "285211  why did socrates believe that self-knowledge w...        0   \n",
              "868135              how did christianity come to senegal?        0   \n",
              "513297  i have a weeping 2 inch poison ivy wound on ne...        0   \n",
              "956724  how can i tell jennifer lawrence that i want t...        0   \n",
              "727680       is sex between real siblings really excised?        1   \n",
              "\n",
              "                                          clean_questions  \\\n",
              "704699  why be akhilesh yadav send his goons behind wo...   \n",
              "129645               how can i know if someone block me ?   \n",
              "454203  why be japanese people , in any kind of non-ma...   \n",
              "918584  what be some sign teachers only care about the...   \n",
              "819570  what do japanese people think of kinoshita yuka ?   \n",
              "...                                                   ...   \n",
              "285211  why do socrates believe that self-knowledge be...   \n",
              "868135              how do christianity come to senegal ?   \n",
              "513297  i have a weep 2 inch poison ivy wind on neck ?...   \n",
              "956724  how can i tell jennifer lawrence that i want t...   \n",
              "727680       be sex between real siblings really excise ?   \n",
              "\n",
              "                                        without_stopwords  \n",
              "704699  akhilesh yadav send goons women rape defame yo...  \n",
              "129645                                       know block ?  \n",
              "454203  japanese people , kind non-mass transport traf...  \n",
              "918584                         sign teachers care money ?  \n",
              "819570             japanese people think kinoshita yuka ?  \n",
              "...                                                   ...  \n",
              "285211   socrates believe self-knowledge sign education ?  \n",
              "868135                        christianity come senegal ?  \n",
              "513297          weep 2 inch poison ivy wind neck ? heal ?  \n",
              "956724  tell jennifer lawrence want friend impossible ...  \n",
              "727680                         sex real siblings excise ?  \n",
              "\n",
              "[157821 rows x 5 columns]"
            ]
          },
          "execution_count": 112,
          "metadata": {},
          "output_type": "execute_result"
        }
      ],
      "source": [
        "balanced_df"
      ]
    },
    {
      "cell_type": "code",
      "execution_count": 113,
      "metadata": {
        "id": "rb8HT_C4b16F"
      },
      "outputs": [],
      "source": [
        "list_of_questions_bdf = balanced_df['without_stopwords'].to_list()\n",
        "og_list_of_questions_bdf = balanced_df['clean_questions'].to_list()\n",
        "\n",
        "list_of_questions_test = test_df['without_stopwords'].to_list()\n",
        "og_list_of_questions_test = test_df['clean_questions'].to_list()\n",
        "\n",
        "bow_transformer_bdf =  CountVectorizer()  \n",
        "\n",
        "bow_transformer_bdf = bow_transformer_bdf.fit(list_of_questions_bdf)\n",
        "bow_transformer_test = bow_transformer_bdf.fit(list_of_questions_test)\n",
        "\n",
        "messages_bow_bdf = bow_transformer_bdf.transform(list_of_questions_bdf)\n",
        "messages_bow_test = bow_transformer_test.transform(list_of_questions_test)\n",
        "\n",
        "tfidf_transformer_bdf = TfidfTransformer().fit(messages_bow_bdf)  #Applying TF-ID to our questions\n",
        "tfidf_transformer_test = TfidfTransformer().fit(messages_bow_test) "
      ]
    },
    {
      "cell_type": "code",
      "execution_count": 114,
      "metadata": {
        "id": "FnIzdy35ca8_"
      },
      "outputs": [],
      "source": [
        "train_set_bdf = tfidf_transformer_bdf.transform(messages_bow_bdf)\n",
        "test_set_bdf = tfidf_transformer_test.transform(messages_bow_test) \n",
        "\n",
        "train_target_bdf = balanced_df.iloc[:,2]\n",
        "train_target_bdf = train_target_bdf.to_numpy().astype(np.float64)\n",
        "\n",
        "X_train_bdf, X_test_bdf, y_train_bdf, y_test_bdf = train_test_split(train_set_bdf, train_target_bdf, test_size=0.2, random_state=42)\n",
        "\n",
        "classifier_unbiased = MultinomialNB()\n",
        "classifier_unbiased.fit(X_train_bdf,y_train_bdf)      #training the model\n",
        "\n",
        "\n",
        "y_pred_train = classifier_unbiased.predict(X_train_bdf)\n",
        "y_pred_test = classifier_unbiased.predict(X_test_bdf)"
      ]
    },
    {
      "cell_type": "code",
      "execution_count": 115,
      "metadata": {
        "colab": {
          "base_uri": "https://localhost:8080/"
        },
        "id": "xHNBzhA6ctxW",
        "outputId": "297680d8-4d28-40f3-8547-cb93ae2f45be"
      },
      "outputs": [
        {
          "name": "stdout",
          "output_type": "stream",
          "text": [
            "              precision    recall  f1-score   support\n",
            "\n",
            "         0.0       0.88      0.90      0.89     20007\n",
            "         1.0       0.82      0.78      0.80     11558\n",
            "\n",
            "    accuracy                           0.86     31565\n",
            "   macro avg       0.85      0.84      0.85     31565\n",
            "weighted avg       0.86      0.86      0.86     31565\n",
            "\n",
            "0.8010657193605684\n",
            "0.8580706478694757\n"
          ]
        }
      ],
      "source": [
        "print(classification_report(y_test_bdf,y_pred_test))   #Results\n",
        "print(f1_score(y_test_bdf, y_pred_test))\n",
        "print(accuracy_score(y_test_bdf, y_pred_test))"
      ]
    },
    {
      "cell_type": "code",
      "execution_count": 116,
      "metadata": {
        "colab": {
          "base_uri": "https://localhost:8080/"
        },
        "id": "O14qIKoseZxz",
        "outputId": "14439ec6-35b3-4c01-9674-870d8b84c3f6"
      },
      "outputs": [
        {
          "name": "stdout",
          "output_type": "stream",
          "text": [
            "              precision    recall  f1-score   support\n",
            "\n",
            "         0.0       0.89      0.92      0.90     79993\n",
            "         1.0       0.85      0.81      0.83     46263\n",
            "\n",
            "    accuracy                           0.88    126256\n",
            "   macro avg       0.87      0.86      0.87    126256\n",
            "weighted avg       0.88      0.88      0.88    126256\n",
            "\n",
            "0.8280732827807605\n",
            "0.8769880243315169\n"
          ]
        }
      ],
      "source": [
        "print(classification_report(y_train_bdf,y_pred_train))   #Results\n",
        "print(f1_score(y_train_bdf, y_pred_train))\n",
        "print(accuracy_score(y_train_bdf, y_pred_train))"
      ]
    },
    {
      "cell_type": "code",
      "execution_count": 117,
      "metadata": {
        "colab": {
          "base_uri": "https://localhost:8080/"
        },
        "id": "SU0XWkibgm6p",
        "outputId": "951e7642-b68b-404d-ae38-99674910d4d1"
      },
      "outputs": [
        {
          "data": {
            "text/plain": [
              "((126256, 84732), (31565, 84732))"
            ]
          },
          "execution_count": 117,
          "metadata": {},
          "output_type": "execute_result"
        }
      ],
      "source": [
        "X_train_bdf.shape, X_test_bdf.shape"
      ]
    },
    {
      "cell_type": "code",
      "execution_count": 118,
      "metadata": {
        "colab": {
          "base_uri": "https://localhost:8080/"
        },
        "id": "JkbELv8agtV3",
        "outputId": "8253eaff-2f22-483b-fda9-8e7444aee412"
      },
      "outputs": [
        {
          "data": {
            "text/plain": [
              "<306122x84732 sparse matrix of type '<class 'numpy.float64'>'\n",
              "\twith 1723409 stored elements in Compressed Sparse Row format>"
            ]
          },
          "execution_count": 118,
          "metadata": {},
          "output_type": "execute_result"
        }
      ],
      "source": [
        "test_set"
      ]
    },
    {
      "cell_type": "code",
      "execution_count": 119,
      "metadata": {
        "id": "UmEAOCoacxz6"
      },
      "outputs": [],
      "source": [
        "y_pred = classifier_unbiased.predict(test_set_bdf)\n",
        "y_pred = y_pred.astype(int)\n",
        "\n",
        "Test_DF_TARGET = pd.DataFrame(y_pred,columns=['target'])\n",
        "TEST_DF_QID = pd.DataFrame(test_df ,columns=['qid'])\n",
        "TEST_DF = pd.concat([TEST_DF_QID, Test_DF_TARGET], axis=1, join='inner')\n",
        "TEST_DF.to_csv(\"sample_submission_unbiased_mnb.csv\",index=False)"
      ]
    },
    {
      "cell_type": "markdown",
      "metadata": {
        "id": "PSEqumxmYqYr"
      },
      "source": [
        "# Logistic Regression"
      ]
    },
    {
      "cell_type": "code",
      "execution_count": 120,
      "metadata": {
        "id": "JWHGsAPOYqBA"
      },
      "outputs": [],
      "source": [
        "from sklearn.linear_model import LogisticRegression\n",
        "\n",
        "def simple_logistic_classify(X_tr, y_tr, X_test, y_test, description, _C=1.0):\n",
        "    model = LogisticRegression(C=_C).fit(X_tr, y_tr)\n",
        "    score = model.score(X_test, y_test)\n",
        "    y_pred = model.predict(test_set_bdf)\n",
        "    print('Test Score with', description, 'features', score)\n",
        "    return model"
      ]
    },
    {
      "cell_type": "code",
      "execution_count": 121,
      "metadata": {
        "colab": {
          "base_uri": "https://localhost:8080/"
        },
        "id": "GV3tuLYeY8J5",
        "outputId": "e8b5a4be-8911-4a72-fcdc-dc04d551304c"
      },
      "outputs": [
        {
          "name": "stdout",
          "output_type": "stream",
          "text": [
            "Test Score with tf-idf features 0.8753999683193411\n"
          ]
        },
        {
          "name": "stderr",
          "output_type": "stream",
          "text": [
            "/usr/local/lib/python3.8/dist-packages/sklearn/linear_model/_logistic.py:444: ConvergenceWarning: lbfgs failed to converge (status=1):\n",
            "STOP: TOTAL NO. of ITERATIONS REACHED LIMIT.\n",
            "\n",
            "Increase the number of iterations (max_iter) or scale the data as shown in:\n",
            "    https://scikit-learn.org/stable/modules/preprocessing.html\n",
            "Please also refer to the documentation for alternative solver options:\n",
            "    https://scikit-learn.org/stable/modules/linear_model.html#logistic-regression\n",
            "  n_iter_i = _check_optimize_result(\n"
          ]
        }
      ],
      "source": [
        "model_tfidf = simple_logistic_classify(X_train_bdf, y_train_bdf, X_test_bdf, y_test_bdf, 'tf-idf')"
      ]
    },
    {
      "cell_type": "code",
      "execution_count": 122,
      "metadata": {
        "id": "cs0vwL14aRsW"
      },
      "outputs": [],
      "source": [
        "y_pred = model_tfidf.predict(test_set_bdf)\n",
        "y_pred = y_pred.astype(int)\n",
        "\n",
        "Test_DF_TARGET = pd.DataFrame(y_pred,columns=['target'])\n",
        "TEST_DF_QID = pd.DataFrame(test_df ,columns=['qid'])\n",
        "TEST_DF = pd.concat([TEST_DF_QID, Test_DF_TARGET], axis=1, join='inner')\n",
        "TEST_DF.to_csv(\"sample_submission_lr.csv\",index=False)"
      ]
    },
    {
      "cell_type": "markdown",
      "metadata": {},
      "source": [
        "# Logistic Regression with Hyperparameter Tuning"
      ]
    },
    {
      "cell_type": "code",
      "execution_count": 123,
      "metadata": {
        "id": "NNBMLnbZp1VG"
      },
      "outputs": [],
      "source": [
        "import sklearn.model_selection\n",
        "param_grid_ = {'C': [1e-5, 1e-3, 1e-1, 1e0, 1e1, 1e2]}\n",
        "bow_search = sklearn.model_selection.GridSearchCV(LogisticRegression(), cv=5, param_grid=param_grid_)\n",
        "tfidf_search = sklearn.model_selection.GridSearchCV(LogisticRegression(), cv=10, param_grid=param_grid_)"
      ]
    },
    {
      "cell_type": "code",
      "execution_count": 124,
      "metadata": {
        "id": "SClbaI3fqN2G"
      },
      "outputs": [
        {
          "name": "stderr",
          "output_type": "stream",
          "text": [
            "/usr/local/lib/python3.8/dist-packages/sklearn/linear_model/_logistic.py:444: ConvergenceWarning: lbfgs failed to converge (status=1):\n",
            "STOP: TOTAL NO. of ITERATIONS REACHED LIMIT.\n",
            "\n",
            "Increase the number of iterations (max_iter) or scale the data as shown in:\n",
            "    https://scikit-learn.org/stable/modules/preprocessing.html\n",
            "Please also refer to the documentation for alternative solver options:\n",
            "    https://scikit-learn.org/stable/modules/linear_model.html#logistic-regression\n",
            "  n_iter_i = _check_optimize_result(\n",
            "/usr/local/lib/python3.8/dist-packages/sklearn/linear_model/_logistic.py:444: ConvergenceWarning: lbfgs failed to converge (status=1):\n",
            "STOP: TOTAL NO. of ITERATIONS REACHED LIMIT.\n",
            "\n",
            "Increase the number of iterations (max_iter) or scale the data as shown in:\n",
            "    https://scikit-learn.org/stable/modules/preprocessing.html\n",
            "Please also refer to the documentation for alternative solver options:\n",
            "    https://scikit-learn.org/stable/modules/linear_model.html#logistic-regression\n",
            "  n_iter_i = _check_optimize_result(\n",
            "/usr/local/lib/python3.8/dist-packages/sklearn/linear_model/_logistic.py:444: ConvergenceWarning: lbfgs failed to converge (status=1):\n",
            "STOP: TOTAL NO. of ITERATIONS REACHED LIMIT.\n",
            "\n",
            "Increase the number of iterations (max_iter) or scale the data as shown in:\n",
            "    https://scikit-learn.org/stable/modules/preprocessing.html\n",
            "Please also refer to the documentation for alternative solver options:\n",
            "    https://scikit-learn.org/stable/modules/linear_model.html#logistic-regression\n",
            "  n_iter_i = _check_optimize_result(\n",
            "/usr/local/lib/python3.8/dist-packages/sklearn/linear_model/_logistic.py:444: ConvergenceWarning: lbfgs failed to converge (status=1):\n",
            "STOP: TOTAL NO. of ITERATIONS REACHED LIMIT.\n",
            "\n",
            "Increase the number of iterations (max_iter) or scale the data as shown in:\n",
            "    https://scikit-learn.org/stable/modules/preprocessing.html\n",
            "Please also refer to the documentation for alternative solver options:\n",
            "    https://scikit-learn.org/stable/modules/linear_model.html#logistic-regression\n",
            "  n_iter_i = _check_optimize_result(\n",
            "/usr/local/lib/python3.8/dist-packages/sklearn/linear_model/_logistic.py:444: ConvergenceWarning: lbfgs failed to converge (status=1):\n",
            "STOP: TOTAL NO. of ITERATIONS REACHED LIMIT.\n",
            "\n",
            "Increase the number of iterations (max_iter) or scale the data as shown in:\n",
            "    https://scikit-learn.org/stable/modules/preprocessing.html\n",
            "Please also refer to the documentation for alternative solver options:\n",
            "    https://scikit-learn.org/stable/modules/linear_model.html#logistic-regression\n",
            "  n_iter_i = _check_optimize_result(\n",
            "/usr/local/lib/python3.8/dist-packages/sklearn/linear_model/_logistic.py:444: ConvergenceWarning: lbfgs failed to converge (status=1):\n",
            "STOP: TOTAL NO. of ITERATIONS REACHED LIMIT.\n",
            "\n",
            "Increase the number of iterations (max_iter) or scale the data as shown in:\n",
            "    https://scikit-learn.org/stable/modules/preprocessing.html\n",
            "Please also refer to the documentation for alternative solver options:\n",
            "    https://scikit-learn.org/stable/modules/linear_model.html#logistic-regression\n",
            "  n_iter_i = _check_optimize_result(\n",
            "/usr/local/lib/python3.8/dist-packages/sklearn/linear_model/_logistic.py:444: ConvergenceWarning: lbfgs failed to converge (status=1):\n",
            "STOP: TOTAL NO. of ITERATIONS REACHED LIMIT.\n",
            "\n",
            "Increase the number of iterations (max_iter) or scale the data as shown in:\n",
            "    https://scikit-learn.org/stable/modules/preprocessing.html\n",
            "Please also refer to the documentation for alternative solver options:\n",
            "    https://scikit-learn.org/stable/modules/linear_model.html#logistic-regression\n",
            "  n_iter_i = _check_optimize_result(\n",
            "/usr/local/lib/python3.8/dist-packages/sklearn/linear_model/_logistic.py:444: ConvergenceWarning: lbfgs failed to converge (status=1):\n",
            "STOP: TOTAL NO. of ITERATIONS REACHED LIMIT.\n",
            "\n",
            "Increase the number of iterations (max_iter) or scale the data as shown in:\n",
            "    https://scikit-learn.org/stable/modules/preprocessing.html\n",
            "Please also refer to the documentation for alternative solver options:\n",
            "    https://scikit-learn.org/stable/modules/linear_model.html#logistic-regression\n",
            "  n_iter_i = _check_optimize_result(\n",
            "/usr/local/lib/python3.8/dist-packages/sklearn/linear_model/_logistic.py:444: ConvergenceWarning: lbfgs failed to converge (status=1):\n",
            "STOP: TOTAL NO. of ITERATIONS REACHED LIMIT.\n",
            "\n",
            "Increase the number of iterations (max_iter) or scale the data as shown in:\n",
            "    https://scikit-learn.org/stable/modules/preprocessing.html\n",
            "Please also refer to the documentation for alternative solver options:\n",
            "    https://scikit-learn.org/stable/modules/linear_model.html#logistic-regression\n",
            "  n_iter_i = _check_optimize_result(\n",
            "/usr/local/lib/python3.8/dist-packages/sklearn/linear_model/_logistic.py:444: ConvergenceWarning: lbfgs failed to converge (status=1):\n",
            "STOP: TOTAL NO. of ITERATIONS REACHED LIMIT.\n",
            "\n",
            "Increase the number of iterations (max_iter) or scale the data as shown in:\n",
            "    https://scikit-learn.org/stable/modules/preprocessing.html\n",
            "Please also refer to the documentation for alternative solver options:\n",
            "    https://scikit-learn.org/stable/modules/linear_model.html#logistic-regression\n",
            "  n_iter_i = _check_optimize_result(\n",
            "/usr/local/lib/python3.8/dist-packages/sklearn/linear_model/_logistic.py:444: ConvergenceWarning: lbfgs failed to converge (status=1):\n",
            "STOP: TOTAL NO. of ITERATIONS REACHED LIMIT.\n",
            "\n",
            "Increase the number of iterations (max_iter) or scale the data as shown in:\n",
            "    https://scikit-learn.org/stable/modules/preprocessing.html\n",
            "Please also refer to the documentation for alternative solver options:\n",
            "    https://scikit-learn.org/stable/modules/linear_model.html#logistic-regression\n",
            "  n_iter_i = _check_optimize_result(\n",
            "/usr/local/lib/python3.8/dist-packages/sklearn/linear_model/_logistic.py:444: ConvergenceWarning: lbfgs failed to converge (status=1):\n",
            "STOP: TOTAL NO. of ITERATIONS REACHED LIMIT.\n",
            "\n",
            "Increase the number of iterations (max_iter) or scale the data as shown in:\n",
            "    https://scikit-learn.org/stable/modules/preprocessing.html\n",
            "Please also refer to the documentation for alternative solver options:\n",
            "    https://scikit-learn.org/stable/modules/linear_model.html#logistic-regression\n",
            "  n_iter_i = _check_optimize_result(\n",
            "/usr/local/lib/python3.8/dist-packages/sklearn/linear_model/_logistic.py:444: ConvergenceWarning: lbfgs failed to converge (status=1):\n",
            "STOP: TOTAL NO. of ITERATIONS REACHED LIMIT.\n",
            "\n",
            "Increase the number of iterations (max_iter) or scale the data as shown in:\n",
            "    https://scikit-learn.org/stable/modules/preprocessing.html\n",
            "Please also refer to the documentation for alternative solver options:\n",
            "    https://scikit-learn.org/stable/modules/linear_model.html#logistic-regression\n",
            "  n_iter_i = _check_optimize_result(\n",
            "/usr/local/lib/python3.8/dist-packages/sklearn/linear_model/_logistic.py:444: ConvergenceWarning: lbfgs failed to converge (status=1):\n",
            "STOP: TOTAL NO. of ITERATIONS REACHED LIMIT.\n",
            "\n",
            "Increase the number of iterations (max_iter) or scale the data as shown in:\n",
            "    https://scikit-learn.org/stable/modules/preprocessing.html\n",
            "Please also refer to the documentation for alternative solver options:\n",
            "    https://scikit-learn.org/stable/modules/linear_model.html#logistic-regression\n",
            "  n_iter_i = _check_optimize_result(\n",
            "/usr/local/lib/python3.8/dist-packages/sklearn/linear_model/_logistic.py:444: ConvergenceWarning: lbfgs failed to converge (status=1):\n",
            "STOP: TOTAL NO. of ITERATIONS REACHED LIMIT.\n",
            "\n",
            "Increase the number of iterations (max_iter) or scale the data as shown in:\n",
            "    https://scikit-learn.org/stable/modules/preprocessing.html\n",
            "Please also refer to the documentation for alternative solver options:\n",
            "    https://scikit-learn.org/stable/modules/linear_model.html#logistic-regression\n",
            "  n_iter_i = _check_optimize_result(\n",
            "/usr/local/lib/python3.8/dist-packages/sklearn/linear_model/_logistic.py:444: ConvergenceWarning: lbfgs failed to converge (status=1):\n",
            "STOP: TOTAL NO. of ITERATIONS REACHED LIMIT.\n",
            "\n",
            "Increase the number of iterations (max_iter) or scale the data as shown in:\n",
            "    https://scikit-learn.org/stable/modules/preprocessing.html\n",
            "Please also refer to the documentation for alternative solver options:\n",
            "    https://scikit-learn.org/stable/modules/linear_model.html#logistic-regression\n",
            "  n_iter_i = _check_optimize_result(\n",
            "/usr/local/lib/python3.8/dist-packages/sklearn/linear_model/_logistic.py:444: ConvergenceWarning: lbfgs failed to converge (status=1):\n",
            "STOP: TOTAL NO. of ITERATIONS REACHED LIMIT.\n",
            "\n",
            "Increase the number of iterations (max_iter) or scale the data as shown in:\n",
            "    https://scikit-learn.org/stable/modules/preprocessing.html\n",
            "Please also refer to the documentation for alternative solver options:\n",
            "    https://scikit-learn.org/stable/modules/linear_model.html#logistic-regression\n",
            "  n_iter_i = _check_optimize_result(\n",
            "/usr/local/lib/python3.8/dist-packages/sklearn/linear_model/_logistic.py:444: ConvergenceWarning: lbfgs failed to converge (status=1):\n",
            "STOP: TOTAL NO. of ITERATIONS REACHED LIMIT.\n",
            "\n",
            "Increase the number of iterations (max_iter) or scale the data as shown in:\n",
            "    https://scikit-learn.org/stable/modules/preprocessing.html\n",
            "Please also refer to the documentation for alternative solver options:\n",
            "    https://scikit-learn.org/stable/modules/linear_model.html#logistic-regression\n",
            "  n_iter_i = _check_optimize_result(\n",
            "/usr/local/lib/python3.8/dist-packages/sklearn/linear_model/_logistic.py:444: ConvergenceWarning: lbfgs failed to converge (status=1):\n",
            "STOP: TOTAL NO. of ITERATIONS REACHED LIMIT.\n",
            "\n",
            "Increase the number of iterations (max_iter) or scale the data as shown in:\n",
            "    https://scikit-learn.org/stable/modules/preprocessing.html\n",
            "Please also refer to the documentation for alternative solver options:\n",
            "    https://scikit-learn.org/stable/modules/linear_model.html#logistic-regression\n",
            "  n_iter_i = _check_optimize_result(\n",
            "/usr/local/lib/python3.8/dist-packages/sklearn/linear_model/_logistic.py:444: ConvergenceWarning: lbfgs failed to converge (status=1):\n",
            "STOP: TOTAL NO. of ITERATIONS REACHED LIMIT.\n",
            "\n",
            "Increase the number of iterations (max_iter) or scale the data as shown in:\n",
            "    https://scikit-learn.org/stable/modules/preprocessing.html\n",
            "Please also refer to the documentation for alternative solver options:\n",
            "    https://scikit-learn.org/stable/modules/linear_model.html#logistic-regression\n",
            "  n_iter_i = _check_optimize_result(\n",
            "/usr/local/lib/python3.8/dist-packages/sklearn/linear_model/_logistic.py:444: ConvergenceWarning: lbfgs failed to converge (status=1):\n",
            "STOP: TOTAL NO. of ITERATIONS REACHED LIMIT.\n",
            "\n",
            "Increase the number of iterations (max_iter) or scale the data as shown in:\n",
            "    https://scikit-learn.org/stable/modules/preprocessing.html\n",
            "Please also refer to the documentation for alternative solver options:\n",
            "    https://scikit-learn.org/stable/modules/linear_model.html#logistic-regression\n",
            "  n_iter_i = _check_optimize_result(\n",
            "/usr/local/lib/python3.8/dist-packages/sklearn/linear_model/_logistic.py:444: ConvergenceWarning: lbfgs failed to converge (status=1):\n",
            "STOP: TOTAL NO. of ITERATIONS REACHED LIMIT.\n",
            "\n",
            "Increase the number of iterations (max_iter) or scale the data as shown in:\n",
            "    https://scikit-learn.org/stable/modules/preprocessing.html\n",
            "Please also refer to the documentation for alternative solver options:\n",
            "    https://scikit-learn.org/stable/modules/linear_model.html#logistic-regression\n",
            "  n_iter_i = _check_optimize_result(\n",
            "/usr/local/lib/python3.8/dist-packages/sklearn/linear_model/_logistic.py:444: ConvergenceWarning: lbfgs failed to converge (status=1):\n",
            "STOP: TOTAL NO. of ITERATIONS REACHED LIMIT.\n",
            "\n",
            "Increase the number of iterations (max_iter) or scale the data as shown in:\n",
            "    https://scikit-learn.org/stable/modules/preprocessing.html\n",
            "Please also refer to the documentation for alternative solver options:\n",
            "    https://scikit-learn.org/stable/modules/linear_model.html#logistic-regression\n",
            "  n_iter_i = _check_optimize_result(\n",
            "/usr/local/lib/python3.8/dist-packages/sklearn/linear_model/_logistic.py:444: ConvergenceWarning: lbfgs failed to converge (status=1):\n",
            "STOP: TOTAL NO. of ITERATIONS REACHED LIMIT.\n",
            "\n",
            "Increase the number of iterations (max_iter) or scale the data as shown in:\n",
            "    https://scikit-learn.org/stable/modules/preprocessing.html\n",
            "Please also refer to the documentation for alternative solver options:\n",
            "    https://scikit-learn.org/stable/modules/linear_model.html#logistic-regression\n",
            "  n_iter_i = _check_optimize_result(\n",
            "/usr/local/lib/python3.8/dist-packages/sklearn/linear_model/_logistic.py:444: ConvergenceWarning: lbfgs failed to converge (status=1):\n",
            "STOP: TOTAL NO. of ITERATIONS REACHED LIMIT.\n",
            "\n",
            "Increase the number of iterations (max_iter) or scale the data as shown in:\n",
            "    https://scikit-learn.org/stable/modules/preprocessing.html\n",
            "Please also refer to the documentation for alternative solver options:\n",
            "    https://scikit-learn.org/stable/modules/linear_model.html#logistic-regression\n",
            "  n_iter_i = _check_optimize_result(\n",
            "/usr/local/lib/python3.8/dist-packages/sklearn/linear_model/_logistic.py:444: ConvergenceWarning: lbfgs failed to converge (status=1):\n",
            "STOP: TOTAL NO. of ITERATIONS REACHED LIMIT.\n",
            "\n",
            "Increase the number of iterations (max_iter) or scale the data as shown in:\n",
            "    https://scikit-learn.org/stable/modules/preprocessing.html\n",
            "Please also refer to the documentation for alternative solver options:\n",
            "    https://scikit-learn.org/stable/modules/linear_model.html#logistic-regression\n",
            "  n_iter_i = _check_optimize_result(\n",
            "/usr/local/lib/python3.8/dist-packages/sklearn/linear_model/_logistic.py:444: ConvergenceWarning: lbfgs failed to converge (status=1):\n",
            "STOP: TOTAL NO. of ITERATIONS REACHED LIMIT.\n",
            "\n",
            "Increase the number of iterations (max_iter) or scale the data as shown in:\n",
            "    https://scikit-learn.org/stable/modules/preprocessing.html\n",
            "Please also refer to the documentation for alternative solver options:\n",
            "    https://scikit-learn.org/stable/modules/linear_model.html#logistic-regression\n",
            "  n_iter_i = _check_optimize_result(\n",
            "/usr/local/lib/python3.8/dist-packages/sklearn/linear_model/_logistic.py:444: ConvergenceWarning: lbfgs failed to converge (status=1):\n",
            "STOP: TOTAL NO. of ITERATIONS REACHED LIMIT.\n",
            "\n",
            "Increase the number of iterations (max_iter) or scale the data as shown in:\n",
            "    https://scikit-learn.org/stable/modules/preprocessing.html\n",
            "Please also refer to the documentation for alternative solver options:\n",
            "    https://scikit-learn.org/stable/modules/linear_model.html#logistic-regression\n",
            "  n_iter_i = _check_optimize_result(\n",
            "/usr/local/lib/python3.8/dist-packages/sklearn/linear_model/_logistic.py:444: ConvergenceWarning: lbfgs failed to converge (status=1):\n",
            "STOP: TOTAL NO. of ITERATIONS REACHED LIMIT.\n",
            "\n",
            "Increase the number of iterations (max_iter) or scale the data as shown in:\n",
            "    https://scikit-learn.org/stable/modules/preprocessing.html\n",
            "Please also refer to the documentation for alternative solver options:\n",
            "    https://scikit-learn.org/stable/modules/linear_model.html#logistic-regression\n",
            "  n_iter_i = _check_optimize_result(\n",
            "/usr/local/lib/python3.8/dist-packages/sklearn/linear_model/_logistic.py:444: ConvergenceWarning: lbfgs failed to converge (status=1):\n",
            "STOP: TOTAL NO. of ITERATIONS REACHED LIMIT.\n",
            "\n",
            "Increase the number of iterations (max_iter) or scale the data as shown in:\n",
            "    https://scikit-learn.org/stable/modules/preprocessing.html\n",
            "Please also refer to the documentation for alternative solver options:\n",
            "    https://scikit-learn.org/stable/modules/linear_model.html#logistic-regression\n",
            "  n_iter_i = _check_optimize_result(\n",
            "/usr/local/lib/python3.8/dist-packages/sklearn/linear_model/_logistic.py:444: ConvergenceWarning: lbfgs failed to converge (status=1):\n",
            "STOP: TOTAL NO. of ITERATIONS REACHED LIMIT.\n",
            "\n",
            "Increase the number of iterations (max_iter) or scale the data as shown in:\n",
            "    https://scikit-learn.org/stable/modules/preprocessing.html\n",
            "Please also refer to the documentation for alternative solver options:\n",
            "    https://scikit-learn.org/stable/modules/linear_model.html#logistic-regression\n",
            "  n_iter_i = _check_optimize_result(\n"
          ]
        },
        {
          "data": {
            "text/html": [
              "<style>#sk-container-id-3 {color: black;background-color: white;}#sk-container-id-3 pre{padding: 0;}#sk-container-id-3 div.sk-toggleable {background-color: white;}#sk-container-id-3 label.sk-toggleable__label {cursor: pointer;display: block;width: 100%;margin-bottom: 0;padding: 0.3em;box-sizing: border-box;text-align: center;}#sk-container-id-3 label.sk-toggleable__label-arrow:before {content: \"▸\";float: left;margin-right: 0.25em;color: #696969;}#sk-container-id-3 label.sk-toggleable__label-arrow:hover:before {color: black;}#sk-container-id-3 div.sk-estimator:hover label.sk-toggleable__label-arrow:before {color: black;}#sk-container-id-3 div.sk-toggleable__content {max-height: 0;max-width: 0;overflow: hidden;text-align: left;background-color: #f0f8ff;}#sk-container-id-3 div.sk-toggleable__content pre {margin: 0.2em;color: black;border-radius: 0.25em;background-color: #f0f8ff;}#sk-container-id-3 input.sk-toggleable__control:checked~div.sk-toggleable__content {max-height: 200px;max-width: 100%;overflow: auto;}#sk-container-id-3 input.sk-toggleable__control:checked~label.sk-toggleable__label-arrow:before {content: \"▾\";}#sk-container-id-3 div.sk-estimator input.sk-toggleable__control:checked~label.sk-toggleable__label {background-color: #d4ebff;}#sk-container-id-3 div.sk-label input.sk-toggleable__control:checked~label.sk-toggleable__label {background-color: #d4ebff;}#sk-container-id-3 input.sk-hidden--visually {border: 0;clip: rect(1px 1px 1px 1px);clip: rect(1px, 1px, 1px, 1px);height: 1px;margin: -1px;overflow: hidden;padding: 0;position: absolute;width: 1px;}#sk-container-id-3 div.sk-estimator {font-family: monospace;background-color: #f0f8ff;border: 1px dotted black;border-radius: 0.25em;box-sizing: border-box;margin-bottom: 0.5em;}#sk-container-id-3 div.sk-estimator:hover {background-color: #d4ebff;}#sk-container-id-3 div.sk-parallel-item::after {content: \"\";width: 100%;border-bottom: 1px solid gray;flex-grow: 1;}#sk-container-id-3 div.sk-label:hover label.sk-toggleable__label {background-color: #d4ebff;}#sk-container-id-3 div.sk-serial::before {content: \"\";position: absolute;border-left: 1px solid gray;box-sizing: border-box;top: 0;bottom: 0;left: 50%;z-index: 0;}#sk-container-id-3 div.sk-serial {display: flex;flex-direction: column;align-items: center;background-color: white;padding-right: 0.2em;padding-left: 0.2em;position: relative;}#sk-container-id-3 div.sk-item {position: relative;z-index: 1;}#sk-container-id-3 div.sk-parallel {display: flex;align-items: stretch;justify-content: center;background-color: white;position: relative;}#sk-container-id-3 div.sk-item::before, #sk-container-id-3 div.sk-parallel-item::before {content: \"\";position: absolute;border-left: 1px solid gray;box-sizing: border-box;top: 0;bottom: 0;left: 50%;z-index: -1;}#sk-container-id-3 div.sk-parallel-item {display: flex;flex-direction: column;z-index: 1;position: relative;background-color: white;}#sk-container-id-3 div.sk-parallel-item:first-child::after {align-self: flex-end;width: 50%;}#sk-container-id-3 div.sk-parallel-item:last-child::after {align-self: flex-start;width: 50%;}#sk-container-id-3 div.sk-parallel-item:only-child::after {width: 0;}#sk-container-id-3 div.sk-dashed-wrapped {border: 1px dashed gray;margin: 0 0.4em 0.5em 0.4em;box-sizing: border-box;padding-bottom: 0.4em;background-color: white;}#sk-container-id-3 div.sk-label label {font-family: monospace;font-weight: bold;display: inline-block;line-height: 1.2em;}#sk-container-id-3 div.sk-label-container {text-align: center;}#sk-container-id-3 div.sk-container {/* jupyter's `normalize.less` sets `[hidden] { display: none; }` but bootstrap.min.css set `[hidden] { display: none !important; }` so we also need the `!important` here to be able to override the default hidden behavior on the sphinx rendered scikit-learn.org. See: https://github.com/scikit-learn/scikit-learn/issues/21755 */display: inline-block !important;position: relative;}#sk-container-id-3 div.sk-text-repr-fallback {display: none;}</style><div id=\"sk-container-id-3\" class=\"sk-top-container\"><div class=\"sk-text-repr-fallback\"><pre>GridSearchCV(cv=10, estimator=LogisticRegression(),\n",
              "             param_grid={&#x27;C&#x27;: [1e-05, 0.001, 0.1, 1.0, 10.0, 100.0]})</pre><b>In a Jupyter environment, please rerun this cell to show the HTML representation or trust the notebook. <br />On GitHub, the HTML representation is unable to render, please try loading this page with nbviewer.org.</b></div><div class=\"sk-container\" hidden><div class=\"sk-item sk-dashed-wrapped\"><div class=\"sk-label-container\"><div class=\"sk-label sk-toggleable\"><input class=\"sk-toggleable__control sk-hidden--visually\" id=\"sk-estimator-id-5\" type=\"checkbox\" ><label for=\"sk-estimator-id-5\" class=\"sk-toggleable__label sk-toggleable__label-arrow\">GridSearchCV</label><div class=\"sk-toggleable__content\"><pre>GridSearchCV(cv=10, estimator=LogisticRegression(),\n",
              "             param_grid={&#x27;C&#x27;: [1e-05, 0.001, 0.1, 1.0, 10.0, 100.0]})</pre></div></div></div><div class=\"sk-parallel\"><div class=\"sk-parallel-item\"><div class=\"sk-item\"><div class=\"sk-label-container\"><div class=\"sk-label sk-toggleable\"><input class=\"sk-toggleable__control sk-hidden--visually\" id=\"sk-estimator-id-6\" type=\"checkbox\" ><label for=\"sk-estimator-id-6\" class=\"sk-toggleable__label sk-toggleable__label-arrow\">estimator: LogisticRegression</label><div class=\"sk-toggleable__content\"><pre>LogisticRegression()</pre></div></div></div><div class=\"sk-serial\"><div class=\"sk-item\"><div class=\"sk-estimator sk-toggleable\"><input class=\"sk-toggleable__control sk-hidden--visually\" id=\"sk-estimator-id-7\" type=\"checkbox\" ><label for=\"sk-estimator-id-7\" class=\"sk-toggleable__label sk-toggleable__label-arrow\">LogisticRegression</label><div class=\"sk-toggleable__content\"><pre>LogisticRegression()</pre></div></div></div></div></div></div></div></div></div></div>"
            ],
            "text/plain": [
              "GridSearchCV(cv=10, estimator=LogisticRegression(),\n",
              "             param_grid={'C': [1e-05, 0.001, 0.1, 1.0, 10.0, 100.0]})"
            ]
          },
          "execution_count": 124,
          "metadata": {},
          "output_type": "execute_result"
        }
      ],
      "source": [
        "tfidf_search.fit(X_train_bdf, y_train_bdf)"
      ]
    },
    {
      "cell_type": "code",
      "execution_count": 125,
      "metadata": {
        "id": "CotUDJWeqt2P"
      },
      "outputs": [
        {
          "data": {
            "text/plain": [
              "0.8750475633338718"
            ]
          },
          "execution_count": 125,
          "metadata": {},
          "output_type": "execute_result"
        }
      ],
      "source": [
        "tfidf_search.best_score_"
      ]
    },
    {
      "cell_type": "code",
      "execution_count": 126,
      "metadata": {
        "id": "UXPCJDEWqy3X"
      },
      "outputs": [
        {
          "data": {
            "text/plain": [
              "{'C': 10.0}"
            ]
          },
          "execution_count": 126,
          "metadata": {},
          "output_type": "execute_result"
        }
      ],
      "source": [
        "tfidf_search.best_params_"
      ]
    },
    {
      "cell_type": "code",
      "execution_count": 127,
      "metadata": {},
      "outputs": [],
      "source": [
        "y_pred = tfidf_search.predict(test_set_bdf)\n",
        "y_pred = y_pred.astype(int)\n",
        "\n",
        "Test_DF_TARGET = pd.DataFrame(y_pred,columns=['target'])\n",
        "TEST_DF_QID = pd.DataFrame(test_df ,columns=['qid'])\n",
        "TEST_DF = pd.concat([TEST_DF_QID, Test_DF_TARGET], axis=1, join='inner')\n",
        "TEST_DF.to_csv(\"sample_submission_lr_hyper.csv\",index=False)"
      ]
    },
    {
      "cell_type": "markdown",
      "metadata": {
        "id": "S8AHtxUGsjd7"
      },
      "source": [
        "# Support Vector Machine"
      ]
    },
    {
      "cell_type": "code",
      "execution_count": 128,
      "metadata": {
        "colab": {
          "base_uri": "https://localhost:8080/"
        },
        "id": "b57ofNLVsi7V",
        "outputId": "3c0fa623-a5af-4ba8-9137-3dd85fc7c8eb"
      },
      "outputs": [
        {
          "data": {
            "text/html": [
              "<style>#sk-container-id-4 {color: black;background-color: white;}#sk-container-id-4 pre{padding: 0;}#sk-container-id-4 div.sk-toggleable {background-color: white;}#sk-container-id-4 label.sk-toggleable__label {cursor: pointer;display: block;width: 100%;margin-bottom: 0;padding: 0.3em;box-sizing: border-box;text-align: center;}#sk-container-id-4 label.sk-toggleable__label-arrow:before {content: \"▸\";float: left;margin-right: 0.25em;color: #696969;}#sk-container-id-4 label.sk-toggleable__label-arrow:hover:before {color: black;}#sk-container-id-4 div.sk-estimator:hover label.sk-toggleable__label-arrow:before {color: black;}#sk-container-id-4 div.sk-toggleable__content {max-height: 0;max-width: 0;overflow: hidden;text-align: left;background-color: #f0f8ff;}#sk-container-id-4 div.sk-toggleable__content pre {margin: 0.2em;color: black;border-radius: 0.25em;background-color: #f0f8ff;}#sk-container-id-4 input.sk-toggleable__control:checked~div.sk-toggleable__content {max-height: 200px;max-width: 100%;overflow: auto;}#sk-container-id-4 input.sk-toggleable__control:checked~label.sk-toggleable__label-arrow:before {content: \"▾\";}#sk-container-id-4 div.sk-estimator input.sk-toggleable__control:checked~label.sk-toggleable__label {background-color: #d4ebff;}#sk-container-id-4 div.sk-label input.sk-toggleable__control:checked~label.sk-toggleable__label {background-color: #d4ebff;}#sk-container-id-4 input.sk-hidden--visually {border: 0;clip: rect(1px 1px 1px 1px);clip: rect(1px, 1px, 1px, 1px);height: 1px;margin: -1px;overflow: hidden;padding: 0;position: absolute;width: 1px;}#sk-container-id-4 div.sk-estimator {font-family: monospace;background-color: #f0f8ff;border: 1px dotted black;border-radius: 0.25em;box-sizing: border-box;margin-bottom: 0.5em;}#sk-container-id-4 div.sk-estimator:hover {background-color: #d4ebff;}#sk-container-id-4 div.sk-parallel-item::after {content: \"\";width: 100%;border-bottom: 1px solid gray;flex-grow: 1;}#sk-container-id-4 div.sk-label:hover label.sk-toggleable__label {background-color: #d4ebff;}#sk-container-id-4 div.sk-serial::before {content: \"\";position: absolute;border-left: 1px solid gray;box-sizing: border-box;top: 0;bottom: 0;left: 50%;z-index: 0;}#sk-container-id-4 div.sk-serial {display: flex;flex-direction: column;align-items: center;background-color: white;padding-right: 0.2em;padding-left: 0.2em;position: relative;}#sk-container-id-4 div.sk-item {position: relative;z-index: 1;}#sk-container-id-4 div.sk-parallel {display: flex;align-items: stretch;justify-content: center;background-color: white;position: relative;}#sk-container-id-4 div.sk-item::before, #sk-container-id-4 div.sk-parallel-item::before {content: \"\";position: absolute;border-left: 1px solid gray;box-sizing: border-box;top: 0;bottom: 0;left: 50%;z-index: -1;}#sk-container-id-4 div.sk-parallel-item {display: flex;flex-direction: column;z-index: 1;position: relative;background-color: white;}#sk-container-id-4 div.sk-parallel-item:first-child::after {align-self: flex-end;width: 50%;}#sk-container-id-4 div.sk-parallel-item:last-child::after {align-self: flex-start;width: 50%;}#sk-container-id-4 div.sk-parallel-item:only-child::after {width: 0;}#sk-container-id-4 div.sk-dashed-wrapped {border: 1px dashed gray;margin: 0 0.4em 0.5em 0.4em;box-sizing: border-box;padding-bottom: 0.4em;background-color: white;}#sk-container-id-4 div.sk-label label {font-family: monospace;font-weight: bold;display: inline-block;line-height: 1.2em;}#sk-container-id-4 div.sk-label-container {text-align: center;}#sk-container-id-4 div.sk-container {/* jupyter's `normalize.less` sets `[hidden] { display: none; }` but bootstrap.min.css set `[hidden] { display: none !important; }` so we also need the `!important` here to be able to override the default hidden behavior on the sphinx rendered scikit-learn.org. See: https://github.com/scikit-learn/scikit-learn/issues/21755 */display: inline-block !important;position: relative;}#sk-container-id-4 div.sk-text-repr-fallback {display: none;}</style><div id=\"sk-container-id-4\" class=\"sk-top-container\"><div class=\"sk-text-repr-fallback\"><pre>SVC()</pre><b>In a Jupyter environment, please rerun this cell to show the HTML representation or trust the notebook. <br />On GitHub, the HTML representation is unable to render, please try loading this page with nbviewer.org.</b></div><div class=\"sk-container\" hidden><div class=\"sk-item\"><div class=\"sk-estimator sk-toggleable\"><input class=\"sk-toggleable__control sk-hidden--visually\" id=\"sk-estimator-id-8\" type=\"checkbox\" checked><label for=\"sk-estimator-id-8\" class=\"sk-toggleable__label sk-toggleable__label-arrow\">SVC</label><div class=\"sk-toggleable__content\"><pre>SVC()</pre></div></div></div></div></div>"
            ],
            "text/plain": [
              "SVC()"
            ]
          },
          "execution_count": 128,
          "metadata": {},
          "output_type": "execute_result"
        }
      ],
      "source": [
        "from sklearn.svm import SVC\n",
        "\n",
        "model = SVC()\n",
        "model.fit(X_train_bdf,y_train_bdf)"
      ]
    },
    {
      "cell_type": "code",
      "execution_count": 129,
      "metadata": {
        "id": "GVBKjedm3F_Z"
      },
      "outputs": [],
      "source": [
        "predictions = model.predict(X_train_bdf)"
      ]
    },
    {
      "cell_type": "code",
      "execution_count": 130,
      "metadata": {
        "colab": {
          "base_uri": "https://localhost:8080/"
        },
        "id": "6AsyM3Z6U8IK",
        "outputId": "794da0ba-fc2f-4781-93e7-efd1af32a8f8"
      },
      "outputs": [
        {
          "name": "stdout",
          "output_type": "stream",
          "text": [
            "              precision    recall  f1-score   support\n",
            "\n",
            "         0.0       0.97      0.97      0.97     79993\n",
            "         1.0       0.95      0.95      0.95     46263\n",
            "\n",
            "    accuracy                           0.96    126256\n",
            "   macro avg       0.96      0.96      0.96    126256\n",
            "weighted avg       0.96      0.96      0.96    126256\n",
            "\n",
            "0.9487077019451976\n",
            "0.9623859460144468\n"
          ]
        }
      ],
      "source": [
        "print(classification_report(y_train_bdf,predictions))   #Results\n",
        "print(f1_score(y_train_bdf, predictions))\n",
        "print(accuracy_score(y_train_bdf, predictions))"
      ]
    },
    {
      "cell_type": "code",
      "execution_count": 131,
      "metadata": {
        "id": "KFHFy2KYuV7X"
      },
      "outputs": [],
      "source": [
        "predictions_test = model.predict(X_test_bdf)"
      ]
    },
    {
      "cell_type": "code",
      "execution_count": 132,
      "metadata": {
        "colab": {
          "base_uri": "https://localhost:8080/"
        },
        "id": "DITjqONOvdsw",
        "outputId": "71eccae6-c104-4cd8-de15-fa916bd5cb28"
      },
      "outputs": [
        {
          "name": "stdout",
          "output_type": "stream",
          "text": [
            "              precision    recall  f1-score   support\n",
            "\n",
            "         0.0       0.90      0.93      0.91     20007\n",
            "         1.0       0.86      0.81      0.84     11558\n",
            "\n",
            "    accuracy                           0.88     31565\n",
            "   macro avg       0.88      0.87      0.87     31565\n",
            "weighted avg       0.88      0.88      0.88     31565\n",
            "\n",
            "0.8380680551219729\n",
            "0.8849675273245684\n"
          ]
        }
      ],
      "source": [
        "print(classification_report(y_test_bdf,predictions_test))   #Results\n",
        "print(f1_score(y_test_bdf, predictions_test))\n",
        "print(accuracy_score(y_test_bdf, predictions_test))"
      ]
    },
    {
      "cell_type": "code",
      "execution_count": 133,
      "metadata": {
        "id": "QpmoaUGka71i"
      },
      "outputs": [],
      "source": [
        "y_pred = model.predict(test_set_bdf)\n",
        "y_pred = y_pred.astype(int)\n",
        "\n",
        "Test_DF_TARGET = pd.DataFrame(y_pred,columns=['target'])\n",
        "TEST_DF_QID = pd.DataFrame(test_df ,columns=['qid'])\n",
        "TEST_DF = pd.concat([TEST_DF_QID, Test_DF_TARGET], axis=1, join='inner')\n",
        "TEST_DF.to_csv(\"sample_submission_svm.csv\",index=False)"
      ]
    },
    {
      "cell_type": "markdown",
      "metadata": {
        "id": "PpNFLtd5QQBt"
      },
      "source": [
        "# SVM with hyperparameter tuning"
      ]
    },
    {
      "cell_type": "code",
      "execution_count": 134,
      "metadata": {
        "colab": {
          "base_uri": "https://localhost:8080/"
        },
        "id": "V7Fi9sGuQPS6",
        "outputId": "6982910d-b6eb-46c8-9ffc-cf77b10b7652"
      },
      "outputs": [
        {
          "data": {
            "text/plain": [
              "\" from sklearn.model_selection import GridSearchCV\\n  \\n# defining parameter range\\nparam_grid = {'C': [0.1, 1, 10, 100, 1000], \\n              'gamma': [1, 0.1, 0.01, 0.001, 0.0001],\\n              'kernel': ['rbf']} \\n  \\ngrid = GridSearchCV(SVC(), param_grid, refit = True, verbose = 3)\\n  \\n# fitting the model for grid search\\ngrid.fit(X_train_bdf, y_train_bdf) \""
            ]
          },
          "execution_count": 134,
          "metadata": {},
          "output_type": "execute_result"
        }
      ],
      "source": [
        "\"\"\" from sklearn.model_selection import GridSearchCV\n",
        "  \n",
        "# defining parameter range\n",
        "param_grid = {'C': [0.1, 1, 10, 100, 1000], \n",
        "              'gamma': [1, 0.1, 0.01, 0.001, 0.0001],\n",
        "              'kernel': ['rbf']} \n",
        "  \n",
        "grid = GridSearchCV(SVC(), param_grid, refit = True, verbose = 3)\n",
        "  \n",
        "# fitting the model for grid search\n",
        "grid.fit(X_train_bdf, y_train_bdf) \"\"\""
      ]
    },
    {
      "cell_type": "code",
      "execution_count": 135,
      "metadata": {
        "id": "h8UKOsoo-tNN"
      },
      "outputs": [
        {
          "data": {
            "text/plain": [
              "' grid_predictions_test = grid.predict(X_test_bdf)\\nprint(classification_report(y_test_bdf, grid_predictions_test))\\nprint(f1_score(y_test_bdf, grid_predictions_test))\\nprint(accuracy_score(y_test_bdf, grid_predictions_test)) '"
            ]
          },
          "execution_count": 135,
          "metadata": {},
          "output_type": "execute_result"
        }
      ],
      "source": [
        "\"\"\" grid_predictions_test = grid.predict(X_test_bdf)\n",
        "print(classification_report(y_test_bdf, grid_predictions_test))\n",
        "print(f1_score(y_test_bdf, grid_predictions_test))\n",
        "print(accuracy_score(y_test_bdf, grid_predictions_test)) \"\"\""
      ]
    },
    {
      "cell_type": "code",
      "execution_count": 136,
      "metadata": {
        "id": "JnwrWENW_pha"
      },
      "outputs": [
        {
          "data": {
            "text/plain": [
              "' grid_predictions_train = grid.predict(X_train_bdf)\\nprint(classification_report(y_train_bdf, grid_predictions_train))\\nprint(f1_score(y_train_bdf, grid_predictions_train))\\nprint(accuracy_score(y_train_bdf, grid_predictions_train)) '"
            ]
          },
          "execution_count": 136,
          "metadata": {},
          "output_type": "execute_result"
        }
      ],
      "source": [
        "\"\"\" grid_predictions_train = grid.predict(X_train_bdf)\n",
        "print(classification_report(y_train_bdf, grid_predictions_train))\n",
        "print(f1_score(y_train_bdf, grid_predictions_train))\n",
        "print(accuracy_score(y_train_bdf, grid_predictions_train)) \"\"\""
      ]
    },
    {
      "cell_type": "code",
      "execution_count": 137,
      "metadata": {
        "id": "LOlGsM1fAKks"
      },
      "outputs": [
        {
          "data": {
            "text/plain": [
              "' y_pred = grid.predict(test_set_bdf)\\ny_pred = y_pred.astype(int)\\n\\nTest_DF_TARGET = pd.DataFrame(y_pred,columns=[\\'target\\'])\\nTEST_DF_QID = pd.DataFrame(test_df ,columns=[\\'qid\\'])\\nTEST_DF = pd.concat([TEST_DF_QID, Test_DF_TARGET], axis=1, join=\\'inner\\')\\nTEST_DF.to_csv(\"sample_submission_svm_hyper.csv\",index=False) '"
            ]
          },
          "execution_count": 137,
          "metadata": {},
          "output_type": "execute_result"
        }
      ],
      "source": [
        "\"\"\" y_pred = grid.predict(test_set_bdf)\n",
        "y_pred = y_pred.astype(int)\n",
        "\n",
        "Test_DF_TARGET = pd.DataFrame(y_pred,columns=['target'])\n",
        "TEST_DF_QID = pd.DataFrame(test_df ,columns=['qid'])\n",
        "TEST_DF = pd.concat([TEST_DF_QID, Test_DF_TARGET], axis=1, join='inner')\n",
        "TEST_DF.to_csv(\"sample_submission_svm_hyper.csv\",index=False) \"\"\""
      ]
    }
  ],
  "metadata": {
    "accelerator": "GPU",
    "colab": {
      "collapsed_sections": [],
      "provenance": []
    },
    "kernelspec": {
      "display_name": "Python 3.8.10 64-bit",
      "language": "python",
      "name": "python3"
    },
    "language_info": {
      "codemirror_mode": {
        "name": "ipython",
        "version": 3
      },
      "file_extension": ".py",
      "mimetype": "text/x-python",
      "name": "python",
      "nbconvert_exporter": "python",
      "pygments_lexer": "ipython3",
      "version": "3.8.10"
    },
    "vscode": {
      "interpreter": {
        "hash": "916dbcbb3f70747c44a77c7bcd40155683ae19c65e1c03b4aa3499c5328201f1"
      }
    }
  },
  "nbformat": 4,
  "nbformat_minor": 0
}
